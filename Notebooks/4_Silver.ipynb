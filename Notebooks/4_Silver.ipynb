{
 "cells": [
  {
   "cell_type": "code",
   "execution_count": 0,
   "metadata": {
    "application/vnd.databricks.v1+cell": {
     "cellMetadata": {
      "byteLimit": 2048000,
      "rowLimit": 10000
     },
     "inputWidgets": {},
     "nuid": "1da0837c-aaea-489a-9331-dc15fcb483bc",
     "showTitle": false,
     "tableResultSettingsMap": {},
     "title": ""
    }
   },
   "outputs": [],
   "source": [
    "from pyspark.sql.functions import *\n",
    "from pyspark.sql.types import *"
   ]
  },
  {
   "cell_type": "markdown",
   "metadata": {
    "application/vnd.databricks.v1+cell": {
     "cellMetadata": {
      "byteLimit": 2048000,
      "rowLimit": 10000
     },
     "inputWidgets": {},
     "nuid": "7f82eb91-a1f7-4ea9-a4aa-d93fd4f9d134",
     "showTitle": false,
     "tableResultSettingsMap": {},
     "title": ""
    }
   },
   "source": [
    "###Silver Data Transformation"
   ]
  },
  {
   "cell_type": "code",
   "execution_count": 0,
   "metadata": {
    "application/vnd.databricks.v1+cell": {
     "cellMetadata": {
      "byteLimit": 2048000,
      "rowLimit": 10000
     },
     "inputWidgets": {},
     "nuid": "ea37206c-4696-4bca-a285-8690b58a2c7a",
     "showTitle": false,
     "tableResultSettingsMap": {},
     "title": ""
    }
   },
   "outputs": [],
   "source": [
    "df = spark.read.format('delta')\\\n",
    "    .option('header', True)\\\n",
    "    .option('inferSchema',True)\\\n",
    "    .load('abfss://bronze@netflixstorageswap.dfs.core.windows.net/netfix_titles')"
   ]
  },
  {
   "cell_type": "code",
   "execution_count": 0,
   "metadata": {
    "application/vnd.databricks.v1+cell": {
     "cellMetadata": {
      "byteLimit": 2048000,
      "rowLimit": 10000
     },
     "inputWidgets": {},
     "nuid": "777add8a-1729-49d4-82df-2b56bfd522c1",
     "showTitle": false,
     "tableResultSettingsMap": {},
     "title": ""
    }
   },
   "outputs": [
    {
     "output_type": "display_data",
     "data": {
      "text/html": [
       "<style scoped>\n",
       "  .table-result-container {\n",
       "    max-height: 300px;\n",
       "    overflow: auto;\n",
       "  }\n",
       "  table, th, td {\n",
       "    border: 1px solid black;\n",
       "    border-collapse: collapse;\n",
       "  }\n",
       "  th, td {\n",
       "    padding: 5px;\n",
       "  }\n",
       "  th {\n",
       "    text-align: left;\n",
       "  }\n",
       "</style><div class='table-result-container'><table class='table-result'><thead style='background-color: white'><tr><th>duration_minutes</th><th>duration_seasons</th><th>type</th><th>title</th><th>date_added</th><th>release_year</th><th>rating</th><th>description</th><th>show_id</th><th>_rescued_data</th></tr></thead><tbody><tr><td>90</td><td>null</td><td>Movie</td><td>Norm of the North: King Sized Adventure</td><td>9/9/2019</td><td>2019</td><td>TV-PG</td><td>Before planning an awesome wedding for his grandfather, a polar bear king must take back a stolen artifact from an evil archaeologist first.</td><td>81145628</td><td>null</td></tr><tr><td>94</td><td>null</td><td>Movie</td><td>Jandino: Whatever it Takes</td><td>9/9/2016</td><td>2016</td><td>TV-MA</td><td>\"Jandino Asporaat riffs on the challenges of raising kids and serenades the audience with a rousing rendition of \"\"Sex on Fire\"\" in his comedy show.\"</td><td>80117401</td><td>null</td></tr><tr><td>null</td><td>1</td><td>TV Show</td><td>Transformers Prime</td><td>9/8/2018</td><td>2013</td><td>TV-Y7-FV</td><td>With the help of three human allies, the Autobots once again protect Earth from the onslaught of the Decepticons and their leader, Megatron.</td><td>70234439</td><td>null</td></tr><tr><td>null</td><td>1</td><td>TV Show</td><td>Transformers: Robots in Disguise</td><td>9/8/2018</td><td>2016</td><td>TV-Y7</td><td>When a prison ship crash unleashes hundreds of Decepticons on Earth, Bumblebee leads a new Autobot force to protect humankind.</td><td>80058654</td><td>null</td></tr><tr><td>99</td><td>null</td><td>Movie</td><td>#realityhigh</td><td>9/8/2017</td><td>2017</td><td>TV-14</td><td>When nerdy high schooler Dani finally attracts the interest of her longtime crush, she lands in the cross hairs of his ex, a social media celebrity.</td><td>80125979</td><td>null</td></tr><tr><td>null</td><td>1</td><td>TV Show</td><td>Apaches</td><td>9/8/2017</td><td>2016</td><td>TV-MA</td><td>A young journalist is forced into a life of crime to save his father and family in this series based on the novel by Miguel Sáez Carral.</td><td>80163890</td><td>null</td></tr><tr><td>110</td><td>null</td><td>Movie</td><td>Automata</td><td>9/8/2017</td><td>2014</td><td>R</td><td>In a dystopian future, an insurance adjuster for a tech company investigates a robot killed for violating protocol and discovers a global conspiracy.</td><td>70304989</td><td>null</td></tr><tr><td>60</td><td>null</td><td>Movie</td><td>Fabrizio Copano: Solo pienso en mi</td><td>9/8/2017</td><td>2017</td><td>TV-MA</td><td>Fabrizio Copano takes audience participation to the next level in this stand-up set while reflecting on sperm banks, family WhatsApp groups and more.</td><td>80164077</td><td>null</td></tr><tr><td>null</td><td>1</td><td>TV Show</td><td>Fire Chasers</td><td>9/8/2017</td><td>2017</td><td>TV-MA</td><td>As California's 2016 fire season rages, brave backcountry firefighters race to put out the flames, protect homes and save lives in this docuseries.</td><td>80117902</td><td>null</td></tr><tr><td>90</td><td>null</td><td>Movie</td><td>Good People</td><td>9/8/2017</td><td>2014</td><td>R</td><td>A struggling couple can't believe their luck when they find a stash of money in the apartment of a neighbor who was recently murdered.</td><td>70304990</td><td>null</td></tr></tbody></table></div>"
      ]
     },
     "metadata": {
      "application/vnd.databricks.v1+output": {
       "addedWidgets": {},
       "aggData": [],
       "aggError": "",
       "aggOverflow": false,
       "aggSchema": [],
       "aggSeriesLimitReached": false,
       "aggType": "",
       "arguments": {},
       "columnCustomDisplayInfos": {},
       "data": [
        [
         "90",
         null,
         "Movie",
         "Norm of the North: King Sized Adventure",
         "9/9/2019",
         "2019",
         "TV-PG",
         "Before planning an awesome wedding for his grandfather, a polar bear king must take back a stolen artifact from an evil archaeologist first.",
         "81145628",
         null
        ],
        [
         "94",
         null,
         "Movie",
         "Jandino: Whatever it Takes",
         "9/9/2016",
         "2016",
         "TV-MA",
         "\"Jandino Asporaat riffs on the challenges of raising kids and serenades the audience with a rousing rendition of \"\"Sex on Fire\"\" in his comedy show.\"",
         "80117401",
         null
        ],
        [
         null,
         "1",
         "TV Show",
         "Transformers Prime",
         "9/8/2018",
         "2013",
         "TV-Y7-FV",
         "With the help of three human allies, the Autobots once again protect Earth from the onslaught of the Decepticons and their leader, Megatron.",
         "70234439",
         null
        ],
        [
         null,
         "1",
         "TV Show",
         "Transformers: Robots in Disguise",
         "9/8/2018",
         "2016",
         "TV-Y7",
         "When a prison ship crash unleashes hundreds of Decepticons on Earth, Bumblebee leads a new Autobot force to protect humankind.",
         "80058654",
         null
        ],
        [
         "99",
         null,
         "Movie",
         "#realityhigh",
         "9/8/2017",
         "2017",
         "TV-14",
         "When nerdy high schooler Dani finally attracts the interest of her longtime crush, she lands in the cross hairs of his ex, a social media celebrity.",
         "80125979",
         null
        ],
        [
         null,
         "1",
         "TV Show",
         "Apaches",
         "9/8/2017",
         "2016",
         "TV-MA",
         "A young journalist is forced into a life of crime to save his father and family in this series based on the novel by Miguel Sáez Carral.",
         "80163890",
         null
        ],
        [
         "110",
         null,
         "Movie",
         "Automata",
         "9/8/2017",
         "2014",
         "R",
         "In a dystopian future, an insurance adjuster for a tech company investigates a robot killed for violating protocol and discovers a global conspiracy.",
         "70304989",
         null
        ],
        [
         "60",
         null,
         "Movie",
         "Fabrizio Copano: Solo pienso en mi",
         "9/8/2017",
         "2017",
         "TV-MA",
         "Fabrizio Copano takes audience participation to the next level in this stand-up set while reflecting on sperm banks, family WhatsApp groups and more.",
         "80164077",
         null
        ],
        [
         null,
         "1",
         "TV Show",
         "Fire Chasers",
         "9/8/2017",
         "2017",
         "TV-MA",
         "As California's 2016 fire season rages, brave backcountry firefighters race to put out the flames, protect homes and save lives in this docuseries.",
         "80117902",
         null
        ],
        [
         "90",
         null,
         "Movie",
         "Good People",
         "9/8/2017",
         "2014",
         "R",
         "A struggling couple can't believe their luck when they find a stash of money in the apartment of a neighbor who was recently murdered.",
         "70304990",
         null
        ]
       ],
       "datasetInfos": [],
       "dbfsResultPath": null,
       "isJsonSchema": true,
       "metadata": {},
       "overflow": false,
       "plotOptions": {
        "customPlotOptions": {},
        "displayType": "table",
        "pivotAggregation": null,
        "pivotColumns": null,
        "xColumns": null,
        "yColumns": null
       },
       "removedWidgets": [],
       "schema": [
        {
         "metadata": "{}",
         "name": "duration_minutes",
         "type": "\"string\""
        },
        {
         "metadata": "{}",
         "name": "duration_seasons",
         "type": "\"string\""
        },
        {
         "metadata": "{}",
         "name": "type",
         "type": "\"string\""
        },
        {
         "metadata": "{}",
         "name": "title",
         "type": "\"string\""
        },
        {
         "metadata": "{}",
         "name": "date_added",
         "type": "\"string\""
        },
        {
         "metadata": "{}",
         "name": "release_year",
         "type": "\"string\""
        },
        {
         "metadata": "{}",
         "name": "rating",
         "type": "\"string\""
        },
        {
         "metadata": "{}",
         "name": "description",
         "type": "\"string\""
        },
        {
         "metadata": "{}",
         "name": "show_id",
         "type": "\"string\""
        },
        {
         "metadata": "{}",
         "name": "_rescued_data",
         "type": "\"string\""
        }
       ],
       "type": "table"
      }
     },
     "output_type": "display_data"
    }
   ],
   "source": [
    "df.limit(10).display()"
   ]
  },
  {
   "cell_type": "code",
   "execution_count": 0,
   "metadata": {
    "application/vnd.databricks.v1+cell": {
     "cellMetadata": {
      "byteLimit": 2048000,
      "rowLimit": 10000
     },
     "inputWidgets": {},
     "nuid": "6218bff8-82d8-4ee8-bf61-b6d576ee8139",
     "showTitle": false,
     "tableResultSettingsMap": {},
     "title": ""
    }
   },
   "outputs": [],
   "source": [
    "df = df.fillna({'duration_minutes': 0, \"duration_seasons\":1})"
   ]
  },
  {
   "cell_type": "code",
   "execution_count": 0,
   "metadata": {
    "application/vnd.databricks.v1+cell": {
     "cellMetadata": {
      "byteLimit": 2048000,
      "rowLimit": 10000
     },
     "inputWidgets": {},
     "nuid": "3f37b019-174c-459e-a685-8e8cd158c2a0",
     "showTitle": false,
     "tableResultSettingsMap": {},
     "title": ""
    }
   },
   "outputs": [
    {
     "output_type": "display_data",
     "data": {
      "text/html": [
       "<style scoped>\n",
       "  .table-result-container {\n",
       "    max-height: 300px;\n",
       "    overflow: auto;\n",
       "  }\n",
       "  table, th, td {\n",
       "    border: 1px solid black;\n",
       "    border-collapse: collapse;\n",
       "  }\n",
       "  th, td {\n",
       "    padding: 5px;\n",
       "  }\n",
       "  th {\n",
       "    text-align: left;\n",
       "  }\n",
       "</style><div class='table-result-container'><table class='table-result'><thead style='background-color: white'><tr><th>duration_minutes</th><th>duration_seasons</th><th>type</th><th>title</th><th>date_added</th><th>release_year</th><th>rating</th><th>description</th><th>show_id</th><th>_rescued_data</th></tr></thead><tbody><tr><td>90</td><td>1</td><td>Movie</td><td>Norm of the North: King Sized Adventure</td><td>9/9/2019</td><td>2019</td><td>TV-PG</td><td>Before planning an awesome wedding for his grandfather, a polar bear king must take back a stolen artifact from an evil archaeologist first.</td><td>81145628</td><td>null</td></tr><tr><td>94</td><td>1</td><td>Movie</td><td>Jandino: Whatever it Takes</td><td>9/9/2016</td><td>2016</td><td>TV-MA</td><td>\"Jandino Asporaat riffs on the challenges of raising kids and serenades the audience with a rousing rendition of \"\"Sex on Fire\"\" in his comedy show.\"</td><td>80117401</td><td>null</td></tr><tr><td>0</td><td>1</td><td>TV Show</td><td>Transformers Prime</td><td>9/8/2018</td><td>2013</td><td>TV-Y7-FV</td><td>With the help of three human allies, the Autobots once again protect Earth from the onslaught of the Decepticons and their leader, Megatron.</td><td>70234439</td><td>null</td></tr><tr><td>0</td><td>1</td><td>TV Show</td><td>Transformers: Robots in Disguise</td><td>9/8/2018</td><td>2016</td><td>TV-Y7</td><td>When a prison ship crash unleashes hundreds of Decepticons on Earth, Bumblebee leads a new Autobot force to protect humankind.</td><td>80058654</td><td>null</td></tr><tr><td>99</td><td>1</td><td>Movie</td><td>#realityhigh</td><td>9/8/2017</td><td>2017</td><td>TV-14</td><td>When nerdy high schooler Dani finally attracts the interest of her longtime crush, she lands in the cross hairs of his ex, a social media celebrity.</td><td>80125979</td><td>null</td></tr><tr><td>0</td><td>1</td><td>TV Show</td><td>Apaches</td><td>9/8/2017</td><td>2016</td><td>TV-MA</td><td>A young journalist is forced into a life of crime to save his father and family in this series based on the novel by Miguel Sáez Carral.</td><td>80163890</td><td>null</td></tr><tr><td>110</td><td>1</td><td>Movie</td><td>Automata</td><td>9/8/2017</td><td>2014</td><td>R</td><td>In a dystopian future, an insurance adjuster for a tech company investigates a robot killed for violating protocol and discovers a global conspiracy.</td><td>70304989</td><td>null</td></tr><tr><td>60</td><td>1</td><td>Movie</td><td>Fabrizio Copano: Solo pienso en mi</td><td>9/8/2017</td><td>2017</td><td>TV-MA</td><td>Fabrizio Copano takes audience participation to the next level in this stand-up set while reflecting on sperm banks, family WhatsApp groups and more.</td><td>80164077</td><td>null</td></tr><tr><td>0</td><td>1</td><td>TV Show</td><td>Fire Chasers</td><td>9/8/2017</td><td>2017</td><td>TV-MA</td><td>As California's 2016 fire season rages, brave backcountry firefighters race to put out the flames, protect homes and save lives in this docuseries.</td><td>80117902</td><td>null</td></tr><tr><td>90</td><td>1</td><td>Movie</td><td>Good People</td><td>9/8/2017</td><td>2014</td><td>R</td><td>A struggling couple can't believe their luck when they find a stash of money in the apartment of a neighbor who was recently murdered.</td><td>70304990</td><td>null</td></tr></tbody></table></div>"
      ]
     },
     "metadata": {
      "application/vnd.databricks.v1+output": {
       "addedWidgets": {},
       "aggData": [],
       "aggError": "",
       "aggOverflow": false,
       "aggSchema": [],
       "aggSeriesLimitReached": false,
       "aggType": "",
       "arguments": {},
       "columnCustomDisplayInfos": {},
       "data": [
        [
         "90",
         "1",
         "Movie",
         "Norm of the North: King Sized Adventure",
         "9/9/2019",
         "2019",
         "TV-PG",
         "Before planning an awesome wedding for his grandfather, a polar bear king must take back a stolen artifact from an evil archaeologist first.",
         "81145628",
         null
        ],
        [
         "94",
         "1",
         "Movie",
         "Jandino: Whatever it Takes",
         "9/9/2016",
         "2016",
         "TV-MA",
         "\"Jandino Asporaat riffs on the challenges of raising kids and serenades the audience with a rousing rendition of \"\"Sex on Fire\"\" in his comedy show.\"",
         "80117401",
         null
        ],
        [
         "0",
         "1",
         "TV Show",
         "Transformers Prime",
         "9/8/2018",
         "2013",
         "TV-Y7-FV",
         "With the help of three human allies, the Autobots once again protect Earth from the onslaught of the Decepticons and their leader, Megatron.",
         "70234439",
         null
        ],
        [
         "0",
         "1",
         "TV Show",
         "Transformers: Robots in Disguise",
         "9/8/2018",
         "2016",
         "TV-Y7",
         "When a prison ship crash unleashes hundreds of Decepticons on Earth, Bumblebee leads a new Autobot force to protect humankind.",
         "80058654",
         null
        ],
        [
         "99",
         "1",
         "Movie",
         "#realityhigh",
         "9/8/2017",
         "2017",
         "TV-14",
         "When nerdy high schooler Dani finally attracts the interest of her longtime crush, she lands in the cross hairs of his ex, a social media celebrity.",
         "80125979",
         null
        ],
        [
         "0",
         "1",
         "TV Show",
         "Apaches",
         "9/8/2017",
         "2016",
         "TV-MA",
         "A young journalist is forced into a life of crime to save his father and family in this series based on the novel by Miguel Sáez Carral.",
         "80163890",
         null
        ],
        [
         "110",
         "1",
         "Movie",
         "Automata",
         "9/8/2017",
         "2014",
         "R",
         "In a dystopian future, an insurance adjuster for a tech company investigates a robot killed for violating protocol and discovers a global conspiracy.",
         "70304989",
         null
        ],
        [
         "60",
         "1",
         "Movie",
         "Fabrizio Copano: Solo pienso en mi",
         "9/8/2017",
         "2017",
         "TV-MA",
         "Fabrizio Copano takes audience participation to the next level in this stand-up set while reflecting on sperm banks, family WhatsApp groups and more.",
         "80164077",
         null
        ],
        [
         "0",
         "1",
         "TV Show",
         "Fire Chasers",
         "9/8/2017",
         "2017",
         "TV-MA",
         "As California's 2016 fire season rages, brave backcountry firefighters race to put out the flames, protect homes and save lives in this docuseries.",
         "80117902",
         null
        ],
        [
         "90",
         "1",
         "Movie",
         "Good People",
         "9/8/2017",
         "2014",
         "R",
         "A struggling couple can't believe their luck when they find a stash of money in the apartment of a neighbor who was recently murdered.",
         "70304990",
         null
        ]
       ],
       "datasetInfos": [],
       "dbfsResultPath": null,
       "isJsonSchema": true,
       "metadata": {},
       "overflow": false,
       "plotOptions": {
        "customPlotOptions": {},
        "displayType": "table",
        "pivotAggregation": null,
        "pivotColumns": null,
        "xColumns": null,
        "yColumns": null
       },
       "removedWidgets": [],
       "schema": [
        {
         "metadata": "{}",
         "name": "duration_minutes",
         "type": "\"string\""
        },
        {
         "metadata": "{}",
         "name": "duration_seasons",
         "type": "\"string\""
        },
        {
         "metadata": "{}",
         "name": "type",
         "type": "\"string\""
        },
        {
         "metadata": "{}",
         "name": "title",
         "type": "\"string\""
        },
        {
         "metadata": "{}",
         "name": "date_added",
         "type": "\"string\""
        },
        {
         "metadata": "{}",
         "name": "release_year",
         "type": "\"string\""
        },
        {
         "metadata": "{}",
         "name": "rating",
         "type": "\"string\""
        },
        {
         "metadata": "{}",
         "name": "description",
         "type": "\"string\""
        },
        {
         "metadata": "{}",
         "name": "show_id",
         "type": "\"string\""
        },
        {
         "metadata": "{}",
         "name": "_rescued_data",
         "type": "\"string\""
        }
       ],
       "type": "table"
      }
     },
     "output_type": "display_data"
    }
   ],
   "source": [
    "df.limit(10).display()"
   ]
  },
  {
   "cell_type": "code",
   "execution_count": 0,
   "metadata": {
    "application/vnd.databricks.v1+cell": {
     "cellMetadata": {
      "byteLimit": 2048000,
      "rowLimit": 10000
     },
     "inputWidgets": {},
     "nuid": "8a60d29c-29e2-42f9-a926-7db1375796e6",
     "showTitle": false,
     "tableResultSettingsMap": {},
     "title": ""
    }
   },
   "outputs": [],
   "source": [
    "df = df.withColumn(\"duration_minutes\",col('duration_minutes').cast(IntegerType()))\\\n",
    "    .withColumn('duration_seasons',col('duration_seasons').cast(IntegerType()))"
   ]
  },
  {
   "cell_type": "code",
   "execution_count": 0,
   "metadata": {
    "application/vnd.databricks.v1+cell": {
     "cellMetadata": {
      "byteLimit": 2048000,
      "rowLimit": 10000
     },
     "inputWidgets": {},
     "nuid": "476d0b04-e678-47fb-8245-1397e27c4ec6",
     "showTitle": false,
     "tableResultSettingsMap": {},
     "title": ""
    }
   },
   "outputs": [
    {
     "output_type": "stream",
     "name": "stdout",
     "output_type": "stream",
     "text": [
      "root\n |-- duration_minutes: integer (nullable = true)\n |-- duration_seasons: integer (nullable = true)\n |-- type: string (nullable = true)\n |-- title: string (nullable = true)\n |-- date_added: string (nullable = true)\n |-- release_year: string (nullable = true)\n |-- rating: string (nullable = true)\n |-- description: string (nullable = true)\n |-- show_id: string (nullable = true)\n |-- _rescued_data: string (nullable = true)\n\n"
     ]
    }
   ],
   "source": [
    "df.printSchema()"
   ]
  },
  {
   "cell_type": "code",
   "execution_count": 0,
   "metadata": {
    "application/vnd.databricks.v1+cell": {
     "cellMetadata": {
      "byteLimit": 2048000,
      "rowLimit": 10000
     },
     "inputWidgets": {},
     "nuid": "fdedd68d-08f9-44c1-b99d-11bfc8b54d97",
     "showTitle": false,
     "tableResultSettingsMap": {},
     "title": ""
    }
   },
   "outputs": [
    {
     "output_type": "display_data",
     "data": {
      "text/html": [
       "<style scoped>\n",
       "  .table-result-container {\n",
       "    max-height: 300px;\n",
       "    overflow: auto;\n",
       "  }\n",
       "  table, th, td {\n",
       "    border: 1px solid black;\n",
       "    border-collapse: collapse;\n",
       "  }\n",
       "  th, td {\n",
       "    padding: 5px;\n",
       "  }\n",
       "  th {\n",
       "    text-align: left;\n",
       "  }\n",
       "</style><div class='table-result-container'><table class='table-result'><thead style='background-color: white'><tr><th>duration_minutes</th><th>duration_seasons</th><th>type</th><th>title</th><th>date_added</th><th>release_year</th><th>rating</th><th>description</th><th>show_id</th><th>_rescued_data</th></tr></thead><tbody><tr><td>90</td><td>1</td><td>Movie</td><td>Norm of the North: King Sized Adventure</td><td>9/9/2019</td><td>2019</td><td>TV-PG</td><td>Before planning an awesome wedding for his grandfather, a polar bear king must take back a stolen artifact from an evil archaeologist first.</td><td>81145628</td><td>null</td></tr><tr><td>94</td><td>1</td><td>Movie</td><td>Jandino: Whatever it Takes</td><td>9/9/2016</td><td>2016</td><td>TV-MA</td><td>\"Jandino Asporaat riffs on the challenges of raising kids and serenades the audience with a rousing rendition of \"\"Sex on Fire\"\" in his comedy show.\"</td><td>80117401</td><td>null</td></tr><tr><td>0</td><td>1</td><td>TV Show</td><td>Transformers Prime</td><td>9/8/2018</td><td>2013</td><td>TV-Y7-FV</td><td>With the help of three human allies, the Autobots once again protect Earth from the onslaught of the Decepticons and their leader, Megatron.</td><td>70234439</td><td>null</td></tr><tr><td>0</td><td>1</td><td>TV Show</td><td>Transformers: Robots in Disguise</td><td>9/8/2018</td><td>2016</td><td>TV-Y7</td><td>When a prison ship crash unleashes hundreds of Decepticons on Earth, Bumblebee leads a new Autobot force to protect humankind.</td><td>80058654</td><td>null</td></tr><tr><td>99</td><td>1</td><td>Movie</td><td>#realityhigh</td><td>9/8/2017</td><td>2017</td><td>TV-14</td><td>When nerdy high schooler Dani finally attracts the interest of her longtime crush, she lands in the cross hairs of his ex, a social media celebrity.</td><td>80125979</td><td>null</td></tr><tr><td>0</td><td>1</td><td>TV Show</td><td>Apaches</td><td>9/8/2017</td><td>2016</td><td>TV-MA</td><td>A young journalist is forced into a life of crime to save his father and family in this series based on the novel by Miguel Sáez Carral.</td><td>80163890</td><td>null</td></tr><tr><td>110</td><td>1</td><td>Movie</td><td>Automata</td><td>9/8/2017</td><td>2014</td><td>R</td><td>In a dystopian future, an insurance adjuster for a tech company investigates a robot killed for violating protocol and discovers a global conspiracy.</td><td>70304989</td><td>null</td></tr><tr><td>60</td><td>1</td><td>Movie</td><td>Fabrizio Copano: Solo pienso en mi</td><td>9/8/2017</td><td>2017</td><td>TV-MA</td><td>Fabrizio Copano takes audience participation to the next level in this stand-up set while reflecting on sperm banks, family WhatsApp groups and more.</td><td>80164077</td><td>null</td></tr><tr><td>0</td><td>1</td><td>TV Show</td><td>Fire Chasers</td><td>9/8/2017</td><td>2017</td><td>TV-MA</td><td>As California's 2016 fire season rages, brave backcountry firefighters race to put out the flames, protect homes and save lives in this docuseries.</td><td>80117902</td><td>null</td></tr><tr><td>90</td><td>1</td><td>Movie</td><td>Good People</td><td>9/8/2017</td><td>2014</td><td>R</td><td>A struggling couple can't believe their luck when they find a stash of money in the apartment of a neighbor who was recently murdered.</td><td>70304990</td><td>null</td></tr></tbody></table></div>"
      ]
     },
     "metadata": {
      "application/vnd.databricks.v1+output": {
       "addedWidgets": {},
       "aggData": [],
       "aggError": "",
       "aggOverflow": false,
       "aggSchema": [],
       "aggSeriesLimitReached": false,
       "aggType": "",
       "arguments": {},
       "columnCustomDisplayInfos": {},
       "data": [
        [
         90,
         1,
         "Movie",
         "Norm of the North: King Sized Adventure",
         "9/9/2019",
         "2019",
         "TV-PG",
         "Before planning an awesome wedding for his grandfather, a polar bear king must take back a stolen artifact from an evil archaeologist first.",
         "81145628",
         null
        ],
        [
         94,
         1,
         "Movie",
         "Jandino: Whatever it Takes",
         "9/9/2016",
         "2016",
         "TV-MA",
         "\"Jandino Asporaat riffs on the challenges of raising kids and serenades the audience with a rousing rendition of \"\"Sex on Fire\"\" in his comedy show.\"",
         "80117401",
         null
        ],
        [
         0,
         1,
         "TV Show",
         "Transformers Prime",
         "9/8/2018",
         "2013",
         "TV-Y7-FV",
         "With the help of three human allies, the Autobots once again protect Earth from the onslaught of the Decepticons and their leader, Megatron.",
         "70234439",
         null
        ],
        [
         0,
         1,
         "TV Show",
         "Transformers: Robots in Disguise",
         "9/8/2018",
         "2016",
         "TV-Y7",
         "When a prison ship crash unleashes hundreds of Decepticons on Earth, Bumblebee leads a new Autobot force to protect humankind.",
         "80058654",
         null
        ],
        [
         99,
         1,
         "Movie",
         "#realityhigh",
         "9/8/2017",
         "2017",
         "TV-14",
         "When nerdy high schooler Dani finally attracts the interest of her longtime crush, she lands in the cross hairs of his ex, a social media celebrity.",
         "80125979",
         null
        ],
        [
         0,
         1,
         "TV Show",
         "Apaches",
         "9/8/2017",
         "2016",
         "TV-MA",
         "A young journalist is forced into a life of crime to save his father and family in this series based on the novel by Miguel Sáez Carral.",
         "80163890",
         null
        ],
        [
         110,
         1,
         "Movie",
         "Automata",
         "9/8/2017",
         "2014",
         "R",
         "In a dystopian future, an insurance adjuster for a tech company investigates a robot killed for violating protocol and discovers a global conspiracy.",
         "70304989",
         null
        ],
        [
         60,
         1,
         "Movie",
         "Fabrizio Copano: Solo pienso en mi",
         "9/8/2017",
         "2017",
         "TV-MA",
         "Fabrizio Copano takes audience participation to the next level in this stand-up set while reflecting on sperm banks, family WhatsApp groups and more.",
         "80164077",
         null
        ],
        [
         0,
         1,
         "TV Show",
         "Fire Chasers",
         "9/8/2017",
         "2017",
         "TV-MA",
         "As California's 2016 fire season rages, brave backcountry firefighters race to put out the flames, protect homes and save lives in this docuseries.",
         "80117902",
         null
        ],
        [
         90,
         1,
         "Movie",
         "Good People",
         "9/8/2017",
         "2014",
         "R",
         "A struggling couple can't believe their luck when they find a stash of money in the apartment of a neighbor who was recently murdered.",
         "70304990",
         null
        ]
       ],
       "datasetInfos": [],
       "dbfsResultPath": null,
       "isJsonSchema": true,
       "metadata": {},
       "overflow": false,
       "plotOptions": {
        "customPlotOptions": {},
        "displayType": "table",
        "pivotAggregation": null,
        "pivotColumns": null,
        "xColumns": null,
        "yColumns": null
       },
       "removedWidgets": [],
       "schema": [
        {
         "metadata": "{}",
         "name": "duration_minutes",
         "type": "\"integer\""
        },
        {
         "metadata": "{}",
         "name": "duration_seasons",
         "type": "\"integer\""
        },
        {
         "metadata": "{}",
         "name": "type",
         "type": "\"string\""
        },
        {
         "metadata": "{}",
         "name": "title",
         "type": "\"string\""
        },
        {
         "metadata": "{}",
         "name": "date_added",
         "type": "\"string\""
        },
        {
         "metadata": "{}",
         "name": "release_year",
         "type": "\"string\""
        },
        {
         "metadata": "{}",
         "name": "rating",
         "type": "\"string\""
        },
        {
         "metadata": "{}",
         "name": "description",
         "type": "\"string\""
        },
        {
         "metadata": "{}",
         "name": "show_id",
         "type": "\"string\""
        },
        {
         "metadata": "{}",
         "name": "_rescued_data",
         "type": "\"string\""
        }
       ],
       "type": "table"
      }
     },
     "output_type": "display_data"
    }
   ],
   "source": [
    "df.limit(10).display()"
   ]
  },
  {
   "cell_type": "code",
   "execution_count": 0,
   "metadata": {
    "application/vnd.databricks.v1+cell": {
     "cellMetadata": {
      "byteLimit": 2048000,
      "rowLimit": 10000
     },
     "inputWidgets": {},
     "nuid": "e55c705d-f30a-420c-91f7-2853e6e0cd12",
     "showTitle": false,
     "tableResultSettingsMap": {},
     "title": ""
    }
   },
   "outputs": [],
   "source": [
    "df = df.withColumn('ShortTitle', split(col('title'), ':')[0])"
   ]
  },
  {
   "cell_type": "code",
   "execution_count": 0,
   "metadata": {
    "application/vnd.databricks.v1+cell": {
     "cellMetadata": {
      "byteLimit": 2048000,
      "rowLimit": 10000
     },
     "inputWidgets": {},
     "nuid": "70273d72-382f-4cb6-ad78-41bb46eed579",
     "showTitle": false,
     "tableResultSettingsMap": {},
     "title": ""
    }
   },
   "outputs": [
    {
     "output_type": "display_data",
     "data": {
      "text/html": [
       "<style scoped>\n",
       "  .table-result-container {\n",
       "    max-height: 300px;\n",
       "    overflow: auto;\n",
       "  }\n",
       "  table, th, td {\n",
       "    border: 1px solid black;\n",
       "    border-collapse: collapse;\n",
       "  }\n",
       "  th, td {\n",
       "    padding: 5px;\n",
       "  }\n",
       "  th {\n",
       "    text-align: left;\n",
       "  }\n",
       "</style><div class='table-result-container'><table class='table-result'><thead style='background-color: white'><tr><th>duration_minutes</th><th>duration_seasons</th><th>type</th><th>title</th><th>date_added</th><th>release_year</th><th>rating</th><th>description</th><th>show_id</th><th>_rescued_data</th><th>ShortTitle</th></tr></thead><tbody><tr><td>90</td><td>1</td><td>Movie</td><td>Norm of the North: King Sized Adventure</td><td>9/9/2019</td><td>2019</td><td>TV-PG</td><td>Before planning an awesome wedding for his grandfather, a polar bear king must take back a stolen artifact from an evil archaeologist first.</td><td>81145628</td><td>null</td><td>Norm of the North</td></tr><tr><td>94</td><td>1</td><td>Movie</td><td>Jandino: Whatever it Takes</td><td>9/9/2016</td><td>2016</td><td>TV-MA</td><td>\"Jandino Asporaat riffs on the challenges of raising kids and serenades the audience with a rousing rendition of \"\"Sex on Fire\"\" in his comedy show.\"</td><td>80117401</td><td>null</td><td>Jandino</td></tr><tr><td>0</td><td>1</td><td>TV Show</td><td>Transformers Prime</td><td>9/8/2018</td><td>2013</td><td>TV-Y7-FV</td><td>With the help of three human allies, the Autobots once again protect Earth from the onslaught of the Decepticons and their leader, Megatron.</td><td>70234439</td><td>null</td><td>Transformers Prime</td></tr><tr><td>0</td><td>1</td><td>TV Show</td><td>Transformers: Robots in Disguise</td><td>9/8/2018</td><td>2016</td><td>TV-Y7</td><td>When a prison ship crash unleashes hundreds of Decepticons on Earth, Bumblebee leads a new Autobot force to protect humankind.</td><td>80058654</td><td>null</td><td>Transformers</td></tr><tr><td>99</td><td>1</td><td>Movie</td><td>#realityhigh</td><td>9/8/2017</td><td>2017</td><td>TV-14</td><td>When nerdy high schooler Dani finally attracts the interest of her longtime crush, she lands in the cross hairs of his ex, a social media celebrity.</td><td>80125979</td><td>null</td><td>#realityhigh</td></tr><tr><td>0</td><td>1</td><td>TV Show</td><td>Apaches</td><td>9/8/2017</td><td>2016</td><td>TV-MA</td><td>A young journalist is forced into a life of crime to save his father and family in this series based on the novel by Miguel Sáez Carral.</td><td>80163890</td><td>null</td><td>Apaches</td></tr><tr><td>110</td><td>1</td><td>Movie</td><td>Automata</td><td>9/8/2017</td><td>2014</td><td>R</td><td>In a dystopian future, an insurance adjuster for a tech company investigates a robot killed for violating protocol and discovers a global conspiracy.</td><td>70304989</td><td>null</td><td>Automata</td></tr><tr><td>60</td><td>1</td><td>Movie</td><td>Fabrizio Copano: Solo pienso en mi</td><td>9/8/2017</td><td>2017</td><td>TV-MA</td><td>Fabrizio Copano takes audience participation to the next level in this stand-up set while reflecting on sperm banks, family WhatsApp groups and more.</td><td>80164077</td><td>null</td><td>Fabrizio Copano</td></tr><tr><td>0</td><td>1</td><td>TV Show</td><td>Fire Chasers</td><td>9/8/2017</td><td>2017</td><td>TV-MA</td><td>As California's 2016 fire season rages, brave backcountry firefighters race to put out the flames, protect homes and save lives in this docuseries.</td><td>80117902</td><td>null</td><td>Fire Chasers</td></tr><tr><td>90</td><td>1</td><td>Movie</td><td>Good People</td><td>9/8/2017</td><td>2014</td><td>R</td><td>A struggling couple can't believe their luck when they find a stash of money in the apartment of a neighbor who was recently murdered.</td><td>70304990</td><td>null</td><td>Good People</td></tr></tbody></table></div>"
      ]
     },
     "metadata": {
      "application/vnd.databricks.v1+output": {
       "addedWidgets": {},
       "aggData": [],
       "aggError": "",
       "aggOverflow": false,
       "aggSchema": [],
       "aggSeriesLimitReached": false,
       "aggType": "",
       "arguments": {},
       "columnCustomDisplayInfos": {},
       "data": [
        [
         90,
         1,
         "Movie",
         "Norm of the North: King Sized Adventure",
         "9/9/2019",
         "2019",
         "TV-PG",
         "Before planning an awesome wedding for his grandfather, a polar bear king must take back a stolen artifact from an evil archaeologist first.",
         "81145628",
         null,
         "Norm of the North"
        ],
        [
         94,
         1,
         "Movie",
         "Jandino: Whatever it Takes",
         "9/9/2016",
         "2016",
         "TV-MA",
         "\"Jandino Asporaat riffs on the challenges of raising kids and serenades the audience with a rousing rendition of \"\"Sex on Fire\"\" in his comedy show.\"",
         "80117401",
         null,
         "Jandino"
        ],
        [
         0,
         1,
         "TV Show",
         "Transformers Prime",
         "9/8/2018",
         "2013",
         "TV-Y7-FV",
         "With the help of three human allies, the Autobots once again protect Earth from the onslaught of the Decepticons and their leader, Megatron.",
         "70234439",
         null,
         "Transformers Prime"
        ],
        [
         0,
         1,
         "TV Show",
         "Transformers: Robots in Disguise",
         "9/8/2018",
         "2016",
         "TV-Y7",
         "When a prison ship crash unleashes hundreds of Decepticons on Earth, Bumblebee leads a new Autobot force to protect humankind.",
         "80058654",
         null,
         "Transformers"
        ],
        [
         99,
         1,
         "Movie",
         "#realityhigh",
         "9/8/2017",
         "2017",
         "TV-14",
         "When nerdy high schooler Dani finally attracts the interest of her longtime crush, she lands in the cross hairs of his ex, a social media celebrity.",
         "80125979",
         null,
         "#realityhigh"
        ],
        [
         0,
         1,
         "TV Show",
         "Apaches",
         "9/8/2017",
         "2016",
         "TV-MA",
         "A young journalist is forced into a life of crime to save his father and family in this series based on the novel by Miguel Sáez Carral.",
         "80163890",
         null,
         "Apaches"
        ],
        [
         110,
         1,
         "Movie",
         "Automata",
         "9/8/2017",
         "2014",
         "R",
         "In a dystopian future, an insurance adjuster for a tech company investigates a robot killed for violating protocol and discovers a global conspiracy.",
         "70304989",
         null,
         "Automata"
        ],
        [
         60,
         1,
         "Movie",
         "Fabrizio Copano: Solo pienso en mi",
         "9/8/2017",
         "2017",
         "TV-MA",
         "Fabrizio Copano takes audience participation to the next level in this stand-up set while reflecting on sperm banks, family WhatsApp groups and more.",
         "80164077",
         null,
         "Fabrizio Copano"
        ],
        [
         0,
         1,
         "TV Show",
         "Fire Chasers",
         "9/8/2017",
         "2017",
         "TV-MA",
         "As California's 2016 fire season rages, brave backcountry firefighters race to put out the flames, protect homes and save lives in this docuseries.",
         "80117902",
         null,
         "Fire Chasers"
        ],
        [
         90,
         1,
         "Movie",
         "Good People",
         "9/8/2017",
         "2014",
         "R",
         "A struggling couple can't believe their luck when they find a stash of money in the apartment of a neighbor who was recently murdered.",
         "70304990",
         null,
         "Good People"
        ]
       ],
       "datasetInfos": [],
       "dbfsResultPath": null,
       "isJsonSchema": true,
       "metadata": {},
       "overflow": false,
       "plotOptions": {
        "customPlotOptions": {},
        "displayType": "table",
        "pivotAggregation": null,
        "pivotColumns": null,
        "xColumns": null,
        "yColumns": null
       },
       "removedWidgets": [],
       "schema": [
        {
         "metadata": "{}",
         "name": "duration_minutes",
         "type": "\"integer\""
        },
        {
         "metadata": "{}",
         "name": "duration_seasons",
         "type": "\"integer\""
        },
        {
         "metadata": "{}",
         "name": "type",
         "type": "\"string\""
        },
        {
         "metadata": "{}",
         "name": "title",
         "type": "\"string\""
        },
        {
         "metadata": "{}",
         "name": "date_added",
         "type": "\"string\""
        },
        {
         "metadata": "{}",
         "name": "release_year",
         "type": "\"string\""
        },
        {
         "metadata": "{}",
         "name": "rating",
         "type": "\"string\""
        },
        {
         "metadata": "{}",
         "name": "description",
         "type": "\"string\""
        },
        {
         "metadata": "{}",
         "name": "show_id",
         "type": "\"string\""
        },
        {
         "metadata": "{}",
         "name": "_rescued_data",
         "type": "\"string\""
        },
        {
         "metadata": "{}",
         "name": "ShortTitle",
         "type": "\"string\""
        }
       ],
       "type": "table"
      }
     },
     "output_type": "display_data"
    }
   ],
   "source": [
    "df.limit(10).display()"
   ]
  },
  {
   "cell_type": "code",
   "execution_count": 0,
   "metadata": {
    "application/vnd.databricks.v1+cell": {
     "cellMetadata": {
      "byteLimit": 2048000,
      "rowLimit": 10000
     },
     "inputWidgets": {},
     "nuid": "6fc340d9-7622-4bd4-ab29-79ec84bb3a31",
     "showTitle": false,
     "tableResultSettingsMap": {},
     "title": ""
    }
   },
   "outputs": [
    {
     "output_type": "display_data",
     "data": {
      "text/html": [
       "<style scoped>\n",
       "  .table-result-container {\n",
       "    max-height: 300px;\n",
       "    overflow: auto;\n",
       "  }\n",
       "  table, th, td {\n",
       "    border: 1px solid black;\n",
       "    border-collapse: collapse;\n",
       "  }\n",
       "  th, td {\n",
       "    padding: 5px;\n",
       "  }\n",
       "  th {\n",
       "    text-align: left;\n",
       "  }\n",
       "</style><div class='table-result-container'><table class='table-result'><thead style='background-color: white'><tr><th>duration_minutes</th><th>duration_seasons</th><th>type</th><th>title</th><th>date_added</th><th>release_year</th><th>rating</th><th>description</th><th>show_id</th><th>_rescued_data</th><th>ShortTitle</th></tr></thead><tbody><tr><td>90</td><td>1</td><td>Movie</td><td>Norm of the North: King Sized Adventure</td><td>9/9/2019</td><td>2019</td><td>TV</td><td>Before planning an awesome wedding for his grandfather, a polar bear king must take back a stolen artifact from an evil archaeologist first.</td><td>81145628</td><td>null</td><td>Norm of the North</td></tr><tr><td>94</td><td>1</td><td>Movie</td><td>Jandino: Whatever it Takes</td><td>9/9/2016</td><td>2016</td><td>TV</td><td>\"Jandino Asporaat riffs on the challenges of raising kids and serenades the audience with a rousing rendition of \"\"Sex on Fire\"\" in his comedy show.\"</td><td>80117401</td><td>null</td><td>Jandino</td></tr><tr><td>0</td><td>1</td><td>TV Show</td><td>Transformers Prime</td><td>9/8/2018</td><td>2013</td><td>TV</td><td>With the help of three human allies, the Autobots once again protect Earth from the onslaught of the Decepticons and their leader, Megatron.</td><td>70234439</td><td>null</td><td>Transformers Prime</td></tr><tr><td>0</td><td>1</td><td>TV Show</td><td>Transformers: Robots in Disguise</td><td>9/8/2018</td><td>2016</td><td>TV</td><td>When a prison ship crash unleashes hundreds of Decepticons on Earth, Bumblebee leads a new Autobot force to protect humankind.</td><td>80058654</td><td>null</td><td>Transformers</td></tr><tr><td>99</td><td>1</td><td>Movie</td><td>#realityhigh</td><td>9/8/2017</td><td>2017</td><td>TV</td><td>When nerdy high schooler Dani finally attracts the interest of her longtime crush, she lands in the cross hairs of his ex, a social media celebrity.</td><td>80125979</td><td>null</td><td>#realityhigh</td></tr><tr><td>0</td><td>1</td><td>TV Show</td><td>Apaches</td><td>9/8/2017</td><td>2016</td><td>TV</td><td>A young journalist is forced into a life of crime to save his father and family in this series based on the novel by Miguel Sáez Carral.</td><td>80163890</td><td>null</td><td>Apaches</td></tr><tr><td>110</td><td>1</td><td>Movie</td><td>Automata</td><td>9/8/2017</td><td>2014</td><td>R</td><td>In a dystopian future, an insurance adjuster for a tech company investigates a robot killed for violating protocol and discovers a global conspiracy.</td><td>70304989</td><td>null</td><td>Automata</td></tr><tr><td>60</td><td>1</td><td>Movie</td><td>Fabrizio Copano: Solo pienso en mi</td><td>9/8/2017</td><td>2017</td><td>TV</td><td>Fabrizio Copano takes audience participation to the next level in this stand-up set while reflecting on sperm banks, family WhatsApp groups and more.</td><td>80164077</td><td>null</td><td>Fabrizio Copano</td></tr><tr><td>0</td><td>1</td><td>TV Show</td><td>Fire Chasers</td><td>9/8/2017</td><td>2017</td><td>TV</td><td>As California's 2016 fire season rages, brave backcountry firefighters race to put out the flames, protect homes and save lives in this docuseries.</td><td>80117902</td><td>null</td><td>Fire Chasers</td></tr><tr><td>90</td><td>1</td><td>Movie</td><td>Good People</td><td>9/8/2017</td><td>2014</td><td>R</td><td>A struggling couple can't believe their luck when they find a stash of money in the apartment of a neighbor who was recently murdered.</td><td>70304990</td><td>null</td><td>Good People</td></tr></tbody></table></div>"
      ]
     },
     "metadata": {
      "application/vnd.databricks.v1+output": {
       "addedWidgets": {},
       "aggData": [],
       "aggError": "",
       "aggOverflow": false,
       "aggSchema": [],
       "aggSeriesLimitReached": false,
       "aggType": "",
       "arguments": {},
       "columnCustomDisplayInfos": {},
       "data": [
        [
         90,
         1,
         "Movie",
         "Norm of the North: King Sized Adventure",
         "9/9/2019",
         "2019",
         "TV",
         "Before planning an awesome wedding for his grandfather, a polar bear king must take back a stolen artifact from an evil archaeologist first.",
         "81145628",
         null,
         "Norm of the North"
        ],
        [
         94,
         1,
         "Movie",
         "Jandino: Whatever it Takes",
         "9/9/2016",
         "2016",
         "TV",
         "\"Jandino Asporaat riffs on the challenges of raising kids and serenades the audience with a rousing rendition of \"\"Sex on Fire\"\" in his comedy show.\"",
         "80117401",
         null,
         "Jandino"
        ],
        [
         0,
         1,
         "TV Show",
         "Transformers Prime",
         "9/8/2018",
         "2013",
         "TV",
         "With the help of three human allies, the Autobots once again protect Earth from the onslaught of the Decepticons and their leader, Megatron.",
         "70234439",
         null,
         "Transformers Prime"
        ],
        [
         0,
         1,
         "TV Show",
         "Transformers: Robots in Disguise",
         "9/8/2018",
         "2016",
         "TV",
         "When a prison ship crash unleashes hundreds of Decepticons on Earth, Bumblebee leads a new Autobot force to protect humankind.",
         "80058654",
         null,
         "Transformers"
        ],
        [
         99,
         1,
         "Movie",
         "#realityhigh",
         "9/8/2017",
         "2017",
         "TV",
         "When nerdy high schooler Dani finally attracts the interest of her longtime crush, she lands in the cross hairs of his ex, a social media celebrity.",
         "80125979",
         null,
         "#realityhigh"
        ],
        [
         0,
         1,
         "TV Show",
         "Apaches",
         "9/8/2017",
         "2016",
         "TV",
         "A young journalist is forced into a life of crime to save his father and family in this series based on the novel by Miguel Sáez Carral.",
         "80163890",
         null,
         "Apaches"
        ],
        [
         110,
         1,
         "Movie",
         "Automata",
         "9/8/2017",
         "2014",
         "R",
         "In a dystopian future, an insurance adjuster for a tech company investigates a robot killed for violating protocol and discovers a global conspiracy.",
         "70304989",
         null,
         "Automata"
        ],
        [
         60,
         1,
         "Movie",
         "Fabrizio Copano: Solo pienso en mi",
         "9/8/2017",
         "2017",
         "TV",
         "Fabrizio Copano takes audience participation to the next level in this stand-up set while reflecting on sperm banks, family WhatsApp groups and more.",
         "80164077",
         null,
         "Fabrizio Copano"
        ],
        [
         0,
         1,
         "TV Show",
         "Fire Chasers",
         "9/8/2017",
         "2017",
         "TV",
         "As California's 2016 fire season rages, brave backcountry firefighters race to put out the flames, protect homes and save lives in this docuseries.",
         "80117902",
         null,
         "Fire Chasers"
        ],
        [
         90,
         1,
         "Movie",
         "Good People",
         "9/8/2017",
         "2014",
         "R",
         "A struggling couple can't believe their luck when they find a stash of money in the apartment of a neighbor who was recently murdered.",
         "70304990",
         null,
         "Good People"
        ]
       ],
       "datasetInfos": [],
       "dbfsResultPath": null,
       "isJsonSchema": true,
       "metadata": {},
       "overflow": false,
       "plotOptions": {
        "customPlotOptions": {},
        "displayType": "table",
        "pivotAggregation": null,
        "pivotColumns": null,
        "xColumns": null,
        "yColumns": null
       },
       "removedWidgets": [],
       "schema": [
        {
         "metadata": "{}",
         "name": "duration_minutes",
         "type": "\"integer\""
        },
        {
         "metadata": "{}",
         "name": "duration_seasons",
         "type": "\"integer\""
        },
        {
         "metadata": "{}",
         "name": "type",
         "type": "\"string\""
        },
        {
         "metadata": "{}",
         "name": "title",
         "type": "\"string\""
        },
        {
         "metadata": "{}",
         "name": "date_added",
         "type": "\"string\""
        },
        {
         "metadata": "{}",
         "name": "release_year",
         "type": "\"string\""
        },
        {
         "metadata": "{}",
         "name": "rating",
         "type": "\"string\""
        },
        {
         "metadata": "{}",
         "name": "description",
         "type": "\"string\""
        },
        {
         "metadata": "{}",
         "name": "show_id",
         "type": "\"string\""
        },
        {
         "metadata": "{}",
         "name": "_rescued_data",
         "type": "\"string\""
        },
        {
         "metadata": "{}",
         "name": "ShortTitle",
         "type": "\"string\""
        }
       ],
       "type": "table"
      }
     },
     "output_type": "display_data"
    }
   ],
   "source": [
    "df = df.withColumn('rating', split(col('rating'), '-')[0])\n",
    "df.limit(10).display()"
   ]
  },
  {
   "cell_type": "code",
   "execution_count": 0,
   "metadata": {
    "application/vnd.databricks.v1+cell": {
     "cellMetadata": {
      "byteLimit": 2048000,
      "rowLimit": 10000
     },
     "inputWidgets": {},
     "nuid": "e73dbdbb-9b59-4eb4-8218-8151b5d14553",
     "showTitle": false,
     "tableResultSettingsMap": {},
     "title": ""
    }
   },
   "outputs": [
    {
     "output_type": "display_data",
     "data": {
      "text/html": [
       "<style scoped>\n",
       "  .table-result-container {\n",
       "    max-height: 300px;\n",
       "    overflow: auto;\n",
       "  }\n",
       "  table, th, td {\n",
       "    border: 1px solid black;\n",
       "    border-collapse: collapse;\n",
       "  }\n",
       "  th, td {\n",
       "    padding: 5px;\n",
       "  }\n",
       "  th {\n",
       "    text-align: left;\n",
       "  }\n",
       "</style><div class='table-result-container'><table class='table-result'><thead style='background-color: white'><tr><th>duration_minutes</th><th>duration_seasons</th><th>type</th><th>title</th><th>date_added</th><th>release_year</th><th>rating</th><th>description</th><th>show_id</th><th>_rescued_data</th><th>ShortTitle</th><th>type_Flag</th></tr></thead><tbody><tr><td>90</td><td>1</td><td>Movie</td><td>Norm of the North: King Sized Adventure</td><td>9/9/2019</td><td>2019</td><td>TV</td><td>Before planning an awesome wedding for his grandfather, a polar bear king must take back a stolen artifact from an evil archaeologist first.</td><td>81145628</td><td>null</td><td>Norm of the North</td><td>1</td></tr><tr><td>94</td><td>1</td><td>Movie</td><td>Jandino: Whatever it Takes</td><td>9/9/2016</td><td>2016</td><td>TV</td><td>\"Jandino Asporaat riffs on the challenges of raising kids and serenades the audience with a rousing rendition of \"\"Sex on Fire\"\" in his comedy show.\"</td><td>80117401</td><td>null</td><td>Jandino</td><td>1</td></tr><tr><td>0</td><td>1</td><td>TV Show</td><td>Transformers Prime</td><td>9/8/2018</td><td>2013</td><td>TV</td><td>With the help of three human allies, the Autobots once again protect Earth from the onslaught of the Decepticons and their leader, Megatron.</td><td>70234439</td><td>null</td><td>Transformers Prime</td><td>2</td></tr><tr><td>0</td><td>1</td><td>TV Show</td><td>Transformers: Robots in Disguise</td><td>9/8/2018</td><td>2016</td><td>TV</td><td>When a prison ship crash unleashes hundreds of Decepticons on Earth, Bumblebee leads a new Autobot force to protect humankind.</td><td>80058654</td><td>null</td><td>Transformers</td><td>2</td></tr><tr><td>99</td><td>1</td><td>Movie</td><td>#realityhigh</td><td>9/8/2017</td><td>2017</td><td>TV</td><td>When nerdy high schooler Dani finally attracts the interest of her longtime crush, she lands in the cross hairs of his ex, a social media celebrity.</td><td>80125979</td><td>null</td><td>#realityhigh</td><td>1</td></tr><tr><td>0</td><td>1</td><td>TV Show</td><td>Apaches</td><td>9/8/2017</td><td>2016</td><td>TV</td><td>A young journalist is forced into a life of crime to save his father and family in this series based on the novel by Miguel Sáez Carral.</td><td>80163890</td><td>null</td><td>Apaches</td><td>2</td></tr><tr><td>110</td><td>1</td><td>Movie</td><td>Automata</td><td>9/8/2017</td><td>2014</td><td>R</td><td>In a dystopian future, an insurance adjuster for a tech company investigates a robot killed for violating protocol and discovers a global conspiracy.</td><td>70304989</td><td>null</td><td>Automata</td><td>1</td></tr><tr><td>60</td><td>1</td><td>Movie</td><td>Fabrizio Copano: Solo pienso en mi</td><td>9/8/2017</td><td>2017</td><td>TV</td><td>Fabrizio Copano takes audience participation to the next level in this stand-up set while reflecting on sperm banks, family WhatsApp groups and more.</td><td>80164077</td><td>null</td><td>Fabrizio Copano</td><td>1</td></tr><tr><td>0</td><td>1</td><td>TV Show</td><td>Fire Chasers</td><td>9/8/2017</td><td>2017</td><td>TV</td><td>As California's 2016 fire season rages, brave backcountry firefighters race to put out the flames, protect homes and save lives in this docuseries.</td><td>80117902</td><td>null</td><td>Fire Chasers</td><td>2</td></tr><tr><td>90</td><td>1</td><td>Movie</td><td>Good People</td><td>9/8/2017</td><td>2014</td><td>R</td><td>A struggling couple can't believe their luck when they find a stash of money in the apartment of a neighbor who was recently murdered.</td><td>70304990</td><td>null</td><td>Good People</td><td>1</td></tr></tbody></table></div>"
      ]
     },
     "metadata": {
      "application/vnd.databricks.v1+output": {
       "addedWidgets": {},
       "aggData": [],
       "aggError": "",
       "aggOverflow": false,
       "aggSchema": [],
       "aggSeriesLimitReached": false,
       "aggType": "",
       "arguments": {},
       "columnCustomDisplayInfos": {},
       "data": [
        [
         90,
         1,
         "Movie",
         "Norm of the North: King Sized Adventure",
         "9/9/2019",
         "2019",
         "TV",
         "Before planning an awesome wedding for his grandfather, a polar bear king must take back a stolen artifact from an evil archaeologist first.",
         "81145628",
         null,
         "Norm of the North",
         1
        ],
        [
         94,
         1,
         "Movie",
         "Jandino: Whatever it Takes",
         "9/9/2016",
         "2016",
         "TV",
         "\"Jandino Asporaat riffs on the challenges of raising kids and serenades the audience with a rousing rendition of \"\"Sex on Fire\"\" in his comedy show.\"",
         "80117401",
         null,
         "Jandino",
         1
        ],
        [
         0,
         1,
         "TV Show",
         "Transformers Prime",
         "9/8/2018",
         "2013",
         "TV",
         "With the help of three human allies, the Autobots once again protect Earth from the onslaught of the Decepticons and their leader, Megatron.",
         "70234439",
         null,
         "Transformers Prime",
         2
        ],
        [
         0,
         1,
         "TV Show",
         "Transformers: Robots in Disguise",
         "9/8/2018",
         "2016",
         "TV",
         "When a prison ship crash unleashes hundreds of Decepticons on Earth, Bumblebee leads a new Autobot force to protect humankind.",
         "80058654",
         null,
         "Transformers",
         2
        ],
        [
         99,
         1,
         "Movie",
         "#realityhigh",
         "9/8/2017",
         "2017",
         "TV",
         "When nerdy high schooler Dani finally attracts the interest of her longtime crush, she lands in the cross hairs of his ex, a social media celebrity.",
         "80125979",
         null,
         "#realityhigh",
         1
        ],
        [
         0,
         1,
         "TV Show",
         "Apaches",
         "9/8/2017",
         "2016",
         "TV",
         "A young journalist is forced into a life of crime to save his father and family in this series based on the novel by Miguel Sáez Carral.",
         "80163890",
         null,
         "Apaches",
         2
        ],
        [
         110,
         1,
         "Movie",
         "Automata",
         "9/8/2017",
         "2014",
         "R",
         "In a dystopian future, an insurance adjuster for a tech company investigates a robot killed for violating protocol and discovers a global conspiracy.",
         "70304989",
         null,
         "Automata",
         1
        ],
        [
         60,
         1,
         "Movie",
         "Fabrizio Copano: Solo pienso en mi",
         "9/8/2017",
         "2017",
         "TV",
         "Fabrizio Copano takes audience participation to the next level in this stand-up set while reflecting on sperm banks, family WhatsApp groups and more.",
         "80164077",
         null,
         "Fabrizio Copano",
         1
        ],
        [
         0,
         1,
         "TV Show",
         "Fire Chasers",
         "9/8/2017",
         "2017",
         "TV",
         "As California's 2016 fire season rages, brave backcountry firefighters race to put out the flames, protect homes and save lives in this docuseries.",
         "80117902",
         null,
         "Fire Chasers",
         2
        ],
        [
         90,
         1,
         "Movie",
         "Good People",
         "9/8/2017",
         "2014",
         "R",
         "A struggling couple can't believe their luck when they find a stash of money in the apartment of a neighbor who was recently murdered.",
         "70304990",
         null,
         "Good People",
         1
        ]
       ],
       "datasetInfos": [],
       "dbfsResultPath": null,
       "isJsonSchema": true,
       "metadata": {},
       "overflow": false,
       "plotOptions": {
        "customPlotOptions": {},
        "displayType": "table",
        "pivotAggregation": null,
        "pivotColumns": null,
        "xColumns": null,
        "yColumns": null
       },
       "removedWidgets": [],
       "schema": [
        {
         "metadata": "{}",
         "name": "duration_minutes",
         "type": "\"integer\""
        },
        {
         "metadata": "{}",
         "name": "duration_seasons",
         "type": "\"integer\""
        },
        {
         "metadata": "{}",
         "name": "type",
         "type": "\"string\""
        },
        {
         "metadata": "{}",
         "name": "title",
         "type": "\"string\""
        },
        {
         "metadata": "{}",
         "name": "date_added",
         "type": "\"string\""
        },
        {
         "metadata": "{}",
         "name": "release_year",
         "type": "\"string\""
        },
        {
         "metadata": "{}",
         "name": "rating",
         "type": "\"string\""
        },
        {
         "metadata": "{}",
         "name": "description",
         "type": "\"string\""
        },
        {
         "metadata": "{}",
         "name": "show_id",
         "type": "\"string\""
        },
        {
         "metadata": "{}",
         "name": "_rescued_data",
         "type": "\"string\""
        },
        {
         "metadata": "{}",
         "name": "ShortTitle",
         "type": "\"string\""
        },
        {
         "metadata": "{}",
         "name": "type_Flag",
         "type": "\"integer\""
        }
       ],
       "type": "table"
      }
     },
     "output_type": "display_data"
    }
   ],
   "source": [
    "df = df.withColumn('type_Flag', when(col('type')=='Movie',1).when(col('type')=='TV Show',2).otherwise(0))\n",
    "df.limit(10).display()"
   ]
  },
  {
   "cell_type": "code",
   "execution_count": 0,
   "metadata": {
    "application/vnd.databricks.v1+cell": {
     "cellMetadata": {
      "byteLimit": 2048000,
      "rowLimit": 10000
     },
     "inputWidgets": {},
     "nuid": "b320477c-8298-4419-a1e6-789accc082fc",
     "showTitle": false,
     "tableResultSettingsMap": {},
     "title": ""
    }
   },
   "outputs": [],
   "source": [
    "from pyspark.sql.window import Window"
   ]
  },
  {
   "cell_type": "code",
   "execution_count": 0,
   "metadata": {
    "application/vnd.databricks.v1+cell": {
     "cellMetadata": {
      "byteLimit": 2048000,
      "rowLimit": 10000
     },
     "inputWidgets": {},
     "nuid": "e957aa85-6360-4008-aa03-5f1c97cf5946",
     "showTitle": false,
     "tableResultSettingsMap": {},
     "title": ""
    }
   },
   "outputs": [],
   "source": [
    "df = df.withColumn('duration_ranking', dense_rank().over(Window.orderBy(col('duration_minutes').desc())))"
   ]
  },
  {
   "cell_type": "code",
   "execution_count": 0,
   "metadata": {
    "application/vnd.databricks.v1+cell": {
     "cellMetadata": {
      "byteLimit": 2048000,
      "rowLimit": 10000
     },
     "inputWidgets": {},
     "nuid": "a100fc19-b42f-41d5-bbf3-73d8c1368b08",
     "showTitle": false,
     "tableResultSettingsMap": {},
     "title": ""
    }
   },
   "outputs": [
    {
     "output_type": "display_data",
     "data": {
      "text/html": [
       "<style scoped>\n",
       "  .table-result-container {\n",
       "    max-height: 300px;\n",
       "    overflow: auto;\n",
       "  }\n",
       "  table, th, td {\n",
       "    border: 1px solid black;\n",
       "    border-collapse: collapse;\n",
       "  }\n",
       "  th, td {\n",
       "    padding: 5px;\n",
       "  }\n",
       "  th {\n",
       "    text-align: left;\n",
       "  }\n",
       "</style><div class='table-result-container'><table class='table-result'><thead style='background-color: white'><tr><th>duration_minutes</th><th>duration_seasons</th><th>type</th><th>title</th><th>date_added</th><th>release_year</th><th>rating</th><th>description</th><th>show_id</th><th>_rescued_data</th><th>ShortTitle</th><th>type_Flag</th><th>duration_ranking</th></tr></thead><tbody><tr><td>312</td><td>1</td><td>Movie</td><td>Black Mirror: Bandersnatch</td><td>12/28/2018</td><td>2018</td><td>TV</td><td>In 1984, a young programmer begins to question reality as he adapts a dark fantasy novel into a video game. A mind-bending tale with multiple endings.</td><td>80988062</td><td>null</td><td>Black Mirror</td><td>1</td><td>1</td></tr><tr><td>228</td><td>1</td><td>Movie</td><td>Sangam</td><td>12/31/2019</td><td>1964</td><td>TV</td><td>Returning home from war after being assumed dead, a pilot weds the woman he has long loved, unaware that she had been planning to marry his best friend.</td><td>60002818</td><td>null</td><td>Sangam</td><td>1</td><td>2</td></tr><tr><td>224</td><td>1</td><td>Movie</td><td>Lagaan</td><td>12/8/2017</td><td>2001</td><td>PG</td><td>In 1890s India, an arrogant British commander challenges the harshly taxed residents of Champaner to a high-stakes cricket match.</td><td>60020906</td><td>null</td><td>Lagaan</td><td>1</td><td>3</td></tr><tr><td>214</td><td>1</td><td>Movie</td><td>Jodhaa Akbar</td><td>10/1/2018</td><td>2008</td><td>TV</td><td>In 16th-century India, what begins as a strategic alliance between a Mughal emperor and a Hindu princess becomes a genuine opportunity for true love.</td><td>70090035</td><td>null</td><td>Jodhaa Akbar</td><td>1</td><td>4</td></tr><tr><td>209</td><td>1</td><td>Movie</td><td>The Irishman</td><td>11/27/2019</td><td>2019</td><td>R</td><td>Hit man Frank Sheeran looks back at the secrets he kept as a loyal member of the Bufalino crime family in this acclaimed film from Martin Scorsese.</td><td>80175798</td><td>null</td><td>The Irishman</td><td>1</td><td>5</td></tr><tr><td>205</td><td>1</td><td>Movie</td><td>The Gospel of Luke</td><td>10/19/2018</td><td>2015</td><td>TV</td><td>Word-for-word Bible texts of the entire book of Luke are narrated and re-enacted in this epic production of the Gospel's accounts of Jesus's life.</td><td>81035749</td><td>null</td><td>The Gospel of Luke</td><td>1</td><td>6</td></tr><tr><td>203</td><td>1</td><td>Movie</td><td>What's Your Raashee?</td><td>8/15/2018</td><td>2009</td><td>TV</td><td>To protect his family from ruin, Yogesh must marry his dream girl in only ten days, so he rushes into dating women with different astrological signs.</td><td>70123118</td><td>null</td><td>What's Your Raashee?</td><td>1</td><td>7</td></tr><tr><td>201</td><td>1</td><td>Movie</td><td>The Lord of the Rings: The Return of the King</td><td>1/1/2020</td><td>2003</td><td>PG</td><td>Aragorn is revealed as the heir to the ancient kings as he, Gandalf and the other members of the broken fellowship struggle to save Gondor.</td><td>60004484</td><td>null</td><td>The Lord of the Rings</td><td>1</td><td>8</td></tr><tr><td>200</td><td>1</td><td>Movie</td><td>Doctor Zhivago</td><td>11/1/2019</td><td>1965</td><td>PG</td><td>A young physician and his beautiful mistress get swept up in the danger and drama of the Bolshevik Revolution in this Oscar-winning epic.</td><td>449931</td><td>null</td><td>Doctor Zhivago</td><td>1</td><td>9</td></tr><tr><td>196</td><td>1</td><td>Movie</td><td>Elephants Dream 4 Hour</td><td>8/23/2018</td><td>2006</td><td>TV</td><td>Friends Proog and Emo live in a capricious, seemingly infinite machine with a sinister purpose in this experimental computer-animated short.</td><td>70274390</td><td>null</td><td>Elephants Dream 4 Hour</td><td>1</td><td>10</td></tr></tbody></table></div>"
      ]
     },
     "metadata": {
      "application/vnd.databricks.v1+output": {
       "addedWidgets": {},
       "aggData": [],
       "aggError": "",
       "aggOverflow": false,
       "aggSchema": [],
       "aggSeriesLimitReached": false,
       "aggType": "",
       "arguments": {},
       "columnCustomDisplayInfos": {},
       "data": [
        [
         312,
         1,
         "Movie",
         "Black Mirror: Bandersnatch",
         "12/28/2018",
         "2018",
         "TV",
         "In 1984, a young programmer begins to question reality as he adapts a dark fantasy novel into a video game. A mind-bending tale with multiple endings.",
         "80988062",
         null,
         "Black Mirror",
         1,
         1
        ],
        [
         228,
         1,
         "Movie",
         "Sangam",
         "12/31/2019",
         "1964",
         "TV",
         "Returning home from war after being assumed dead, a pilot weds the woman he has long loved, unaware that she had been planning to marry his best friend.",
         "60002818",
         null,
         "Sangam",
         1,
         2
        ],
        [
         224,
         1,
         "Movie",
         "Lagaan",
         "12/8/2017",
         "2001",
         "PG",
         "In 1890s India, an arrogant British commander challenges the harshly taxed residents of Champaner to a high-stakes cricket match.",
         "60020906",
         null,
         "Lagaan",
         1,
         3
        ],
        [
         214,
         1,
         "Movie",
         "Jodhaa Akbar",
         "10/1/2018",
         "2008",
         "TV",
         "In 16th-century India, what begins as a strategic alliance between a Mughal emperor and a Hindu princess becomes a genuine opportunity for true love.",
         "70090035",
         null,
         "Jodhaa Akbar",
         1,
         4
        ],
        [
         209,
         1,
         "Movie",
         "The Irishman",
         "11/27/2019",
         "2019",
         "R",
         "Hit man Frank Sheeran looks back at the secrets he kept as a loyal member of the Bufalino crime family in this acclaimed film from Martin Scorsese.",
         "80175798",
         null,
         "The Irishman",
         1,
         5
        ],
        [
         205,
         1,
         "Movie",
         "The Gospel of Luke",
         "10/19/2018",
         "2015",
         "TV",
         "Word-for-word Bible texts of the entire book of Luke are narrated and re-enacted in this epic production of the Gospel's accounts of Jesus's life.",
         "81035749",
         null,
         "The Gospel of Luke",
         1,
         6
        ],
        [
         203,
         1,
         "Movie",
         "What's Your Raashee?",
         "8/15/2018",
         "2009",
         "TV",
         "To protect his family from ruin, Yogesh must marry his dream girl in only ten days, so he rushes into dating women with different astrological signs.",
         "70123118",
         null,
         "What's Your Raashee?",
         1,
         7
        ],
        [
         201,
         1,
         "Movie",
         "The Lord of the Rings: The Return of the King",
         "1/1/2020",
         "2003",
         "PG",
         "Aragorn is revealed as the heir to the ancient kings as he, Gandalf and the other members of the broken fellowship struggle to save Gondor.",
         "60004484",
         null,
         "The Lord of the Rings",
         1,
         8
        ],
        [
         200,
         1,
         "Movie",
         "Doctor Zhivago",
         "11/1/2019",
         "1965",
         "PG",
         "A young physician and his beautiful mistress get swept up in the danger and drama of the Bolshevik Revolution in this Oscar-winning epic.",
         "449931",
         null,
         "Doctor Zhivago",
         1,
         9
        ],
        [
         196,
         1,
         "Movie",
         "Elephants Dream 4 Hour",
         "8/23/2018",
         "2006",
         "TV",
         "Friends Proog and Emo live in a capricious, seemingly infinite machine with a sinister purpose in this experimental computer-animated short.",
         "70274390",
         null,
         "Elephants Dream 4 Hour",
         1,
         10
        ]
       ],
       "datasetInfos": [],
       "dbfsResultPath": null,
       "isJsonSchema": true,
       "metadata": {},
       "overflow": false,
       "plotOptions": {
        "customPlotOptions": {},
        "displayType": "table",
        "pivotAggregation": null,
        "pivotColumns": null,
        "xColumns": null,
        "yColumns": null
       },
       "removedWidgets": [],
       "schema": [
        {
         "metadata": "{}",
         "name": "duration_minutes",
         "type": "\"integer\""
        },
        {
         "metadata": "{}",
         "name": "duration_seasons",
         "type": "\"integer\""
        },
        {
         "metadata": "{}",
         "name": "type",
         "type": "\"string\""
        },
        {
         "metadata": "{}",
         "name": "title",
         "type": "\"string\""
        },
        {
         "metadata": "{}",
         "name": "date_added",
         "type": "\"string\""
        },
        {
         "metadata": "{}",
         "name": "release_year",
         "type": "\"string\""
        },
        {
         "metadata": "{}",
         "name": "rating",
         "type": "\"string\""
        },
        {
         "metadata": "{}",
         "name": "description",
         "type": "\"string\""
        },
        {
         "metadata": "{}",
         "name": "show_id",
         "type": "\"string\""
        },
        {
         "metadata": "{}",
         "name": "_rescued_data",
         "type": "\"string\""
        },
        {
         "metadata": "{}",
         "name": "ShortTitle",
         "type": "\"string\""
        },
        {
         "metadata": "{}",
         "name": "type_Flag",
         "type": "\"integer\""
        },
        {
         "metadata": "{}",
         "name": "duration_ranking",
         "type": "\"integer\""
        }
       ],
       "type": "table"
      }
     },
     "output_type": "display_data"
    }
   ],
   "source": [
    "df.limit(10).display()"
   ]
  },
  {
   "cell_type": "code",
   "execution_count": 0,
   "metadata": {
    "application/vnd.databricks.v1+cell": {
     "cellMetadata": {
      "byteLimit": 2048000,
      "rowLimit": 10000
     },
     "inputWidgets": {},
     "nuid": "78cde6a7-5f08-468d-967c-1912186e9454",
     "showTitle": false,
     "tableResultSettingsMap": {},
     "title": ""
    }
   },
   "outputs": [],
   "source": [
    "df.createOrReplaceTempView('temp_view')"
   ]
  },
  {
   "cell_type": "code",
   "execution_count": 0,
   "metadata": {
    "application/vnd.databricks.v1+cell": {
     "cellMetadata": {
      "byteLimit": 2048000,
      "rowLimit": 10000
     },
     "inputWidgets": {},
     "nuid": "87962ebd-5300-4e61-99ba-5b582bfd2ba2",
     "showTitle": false,
     "tableResultSettingsMap": {},
     "title": ""
    }
   },
   "outputs": [],
   "source": [
    "df = spark.sql(\"\"\"\n",
    "               \n",
    "               select * from temp_view\n",
    "\n",
    "               \"\"\")"
   ]
  },
  {
   "cell_type": "code",
   "execution_count": 0,
   "metadata": {
    "application/vnd.databricks.v1+cell": {
     "cellMetadata": {
      "byteLimit": 2048000,
      "rowLimit": 10000
     },
     "inputWidgets": {},
     "nuid": "b8737d92-0c0b-4021-9654-0666d647a4a0",
     "showTitle": false,
     "tableResultSettingsMap": {},
     "title": ""
    }
   },
   "outputs": [
    {
     "output_type": "display_data",
     "data": {
      "text/html": [
       "<style scoped>\n",
       "  .table-result-container {\n",
       "    max-height: 300px;\n",
       "    overflow: auto;\n",
       "  }\n",
       "  table, th, td {\n",
       "    border: 1px solid black;\n",
       "    border-collapse: collapse;\n",
       "  }\n",
       "  th, td {\n",
       "    padding: 5px;\n",
       "  }\n",
       "  th {\n",
       "    text-align: left;\n",
       "  }\n",
       "</style><div class='table-result-container'><table class='table-result'><thead style='background-color: white'><tr><th>duration_minutes</th><th>duration_seasons</th><th>type</th><th>title</th><th>date_added</th><th>release_year</th><th>rating</th><th>description</th><th>show_id</th><th>_rescued_data</th><th>ShortTitle</th><th>type_Flag</th><th>duration_ranking</th></tr></thead><tbody><tr><td>312</td><td>1</td><td>Movie</td><td>Black Mirror: Bandersnatch</td><td>12/28/2018</td><td>2018</td><td>TV</td><td>In 1984, a young programmer begins to question reality as he adapts a dark fantasy novel into a video game. A mind-bending tale with multiple endings.</td><td>80988062</td><td>null</td><td>Black Mirror</td><td>1</td><td>1</td></tr><tr><td>228</td><td>1</td><td>Movie</td><td>Sangam</td><td>12/31/2019</td><td>1964</td><td>TV</td><td>Returning home from war after being assumed dead, a pilot weds the woman he has long loved, unaware that she had been planning to marry his best friend.</td><td>60002818</td><td>null</td><td>Sangam</td><td>1</td><td>2</td></tr><tr><td>224</td><td>1</td><td>Movie</td><td>Lagaan</td><td>12/8/2017</td><td>2001</td><td>PG</td><td>In 1890s India, an arrogant British commander challenges the harshly taxed residents of Champaner to a high-stakes cricket match.</td><td>60020906</td><td>null</td><td>Lagaan</td><td>1</td><td>3</td></tr><tr><td>214</td><td>1</td><td>Movie</td><td>Jodhaa Akbar</td><td>10/1/2018</td><td>2008</td><td>TV</td><td>In 16th-century India, what begins as a strategic alliance between a Mughal emperor and a Hindu princess becomes a genuine opportunity for true love.</td><td>70090035</td><td>null</td><td>Jodhaa Akbar</td><td>1</td><td>4</td></tr><tr><td>209</td><td>1</td><td>Movie</td><td>The Irishman</td><td>11/27/2019</td><td>2019</td><td>R</td><td>Hit man Frank Sheeran looks back at the secrets he kept as a loyal member of the Bufalino crime family in this acclaimed film from Martin Scorsese.</td><td>80175798</td><td>null</td><td>The Irishman</td><td>1</td><td>5</td></tr><tr><td>205</td><td>1</td><td>Movie</td><td>The Gospel of Luke</td><td>10/19/2018</td><td>2015</td><td>TV</td><td>Word-for-word Bible texts of the entire book of Luke are narrated and re-enacted in this epic production of the Gospel's accounts of Jesus's life.</td><td>81035749</td><td>null</td><td>The Gospel of Luke</td><td>1</td><td>6</td></tr><tr><td>203</td><td>1</td><td>Movie</td><td>What's Your Raashee?</td><td>8/15/2018</td><td>2009</td><td>TV</td><td>To protect his family from ruin, Yogesh must marry his dream girl in only ten days, so he rushes into dating women with different astrological signs.</td><td>70123118</td><td>null</td><td>What's Your Raashee?</td><td>1</td><td>7</td></tr><tr><td>201</td><td>1</td><td>Movie</td><td>The Lord of the Rings: The Return of the King</td><td>1/1/2020</td><td>2003</td><td>PG</td><td>Aragorn is revealed as the heir to the ancient kings as he, Gandalf and the other members of the broken fellowship struggle to save Gondor.</td><td>60004484</td><td>null</td><td>The Lord of the Rings</td><td>1</td><td>8</td></tr><tr><td>200</td><td>1</td><td>Movie</td><td>Doctor Zhivago</td><td>11/1/2019</td><td>1965</td><td>PG</td><td>A young physician and his beautiful mistress get swept up in the danger and drama of the Bolshevik Revolution in this Oscar-winning epic.</td><td>449931</td><td>null</td><td>Doctor Zhivago</td><td>1</td><td>9</td></tr><tr><td>196</td><td>1</td><td>Movie</td><td>Elephants Dream 4 Hour</td><td>8/23/2018</td><td>2006</td><td>TV</td><td>Friends Proog and Emo live in a capricious, seemingly infinite machine with a sinister purpose in this experimental computer-animated short.</td><td>70274390</td><td>null</td><td>Elephants Dream 4 Hour</td><td>1</td><td>10</td></tr></tbody></table></div>"
      ]
     },
     "metadata": {
      "application/vnd.databricks.v1+output": {
       "addedWidgets": {},
       "aggData": [],
       "aggError": "",
       "aggOverflow": false,
       "aggSchema": [],
       "aggSeriesLimitReached": false,
       "aggType": "",
       "arguments": {},
       "columnCustomDisplayInfos": {},
       "data": [
        [
         312,
         1,
         "Movie",
         "Black Mirror: Bandersnatch",
         "12/28/2018",
         "2018",
         "TV",
         "In 1984, a young programmer begins to question reality as he adapts a dark fantasy novel into a video game. A mind-bending tale with multiple endings.",
         "80988062",
         null,
         "Black Mirror",
         1,
         1
        ],
        [
         228,
         1,
         "Movie",
         "Sangam",
         "12/31/2019",
         "1964",
         "TV",
         "Returning home from war after being assumed dead, a pilot weds the woman he has long loved, unaware that she had been planning to marry his best friend.",
         "60002818",
         null,
         "Sangam",
         1,
         2
        ],
        [
         224,
         1,
         "Movie",
         "Lagaan",
         "12/8/2017",
         "2001",
         "PG",
         "In 1890s India, an arrogant British commander challenges the harshly taxed residents of Champaner to a high-stakes cricket match.",
         "60020906",
         null,
         "Lagaan",
         1,
         3
        ],
        [
         214,
         1,
         "Movie",
         "Jodhaa Akbar",
         "10/1/2018",
         "2008",
         "TV",
         "In 16th-century India, what begins as a strategic alliance between a Mughal emperor and a Hindu princess becomes a genuine opportunity for true love.",
         "70090035",
         null,
         "Jodhaa Akbar",
         1,
         4
        ],
        [
         209,
         1,
         "Movie",
         "The Irishman",
         "11/27/2019",
         "2019",
         "R",
         "Hit man Frank Sheeran looks back at the secrets he kept as a loyal member of the Bufalino crime family in this acclaimed film from Martin Scorsese.",
         "80175798",
         null,
         "The Irishman",
         1,
         5
        ],
        [
         205,
         1,
         "Movie",
         "The Gospel of Luke",
         "10/19/2018",
         "2015",
         "TV",
         "Word-for-word Bible texts of the entire book of Luke are narrated and re-enacted in this epic production of the Gospel's accounts of Jesus's life.",
         "81035749",
         null,
         "The Gospel of Luke",
         1,
         6
        ],
        [
         203,
         1,
         "Movie",
         "What's Your Raashee?",
         "8/15/2018",
         "2009",
         "TV",
         "To protect his family from ruin, Yogesh must marry his dream girl in only ten days, so he rushes into dating women with different astrological signs.",
         "70123118",
         null,
         "What's Your Raashee?",
         1,
         7
        ],
        [
         201,
         1,
         "Movie",
         "The Lord of the Rings: The Return of the King",
         "1/1/2020",
         "2003",
         "PG",
         "Aragorn is revealed as the heir to the ancient kings as he, Gandalf and the other members of the broken fellowship struggle to save Gondor.",
         "60004484",
         null,
         "The Lord of the Rings",
         1,
         8
        ],
        [
         200,
         1,
         "Movie",
         "Doctor Zhivago",
         "11/1/2019",
         "1965",
         "PG",
         "A young physician and his beautiful mistress get swept up in the danger and drama of the Bolshevik Revolution in this Oscar-winning epic.",
         "449931",
         null,
         "Doctor Zhivago",
         1,
         9
        ],
        [
         196,
         1,
         "Movie",
         "Elephants Dream 4 Hour",
         "8/23/2018",
         "2006",
         "TV",
         "Friends Proog and Emo live in a capricious, seemingly infinite machine with a sinister purpose in this experimental computer-animated short.",
         "70274390",
         null,
         "Elephants Dream 4 Hour",
         1,
         10
        ]
       ],
       "datasetInfos": [],
       "dbfsResultPath": null,
       "isJsonSchema": true,
       "metadata": {},
       "overflow": false,
       "plotOptions": {
        "customPlotOptions": {},
        "displayType": "table",
        "pivotAggregation": null,
        "pivotColumns": null,
        "xColumns": null,
        "yColumns": null
       },
       "removedWidgets": [],
       "schema": [
        {
         "metadata": "{}",
         "name": "duration_minutes",
         "type": "\"integer\""
        },
        {
         "metadata": "{}",
         "name": "duration_seasons",
         "type": "\"integer\""
        },
        {
         "metadata": "{}",
         "name": "type",
         "type": "\"string\""
        },
        {
         "metadata": "{}",
         "name": "title",
         "type": "\"string\""
        },
        {
         "metadata": "{}",
         "name": "date_added",
         "type": "\"string\""
        },
        {
         "metadata": "{}",
         "name": "release_year",
         "type": "\"string\""
        },
        {
         "metadata": "{}",
         "name": "rating",
         "type": "\"string\""
        },
        {
         "metadata": "{}",
         "name": "description",
         "type": "\"string\""
        },
        {
         "metadata": "{}",
         "name": "show_id",
         "type": "\"string\""
        },
        {
         "metadata": "{}",
         "name": "_rescued_data",
         "type": "\"string\""
        },
        {
         "metadata": "{}",
         "name": "ShortTitle",
         "type": "\"string\""
        },
        {
         "metadata": "{}",
         "name": "type_Flag",
         "type": "\"integer\""
        },
        {
         "metadata": "{}",
         "name": "duration_ranking",
         "type": "\"integer\""
        }
       ],
       "type": "table"
      }
     },
     "output_type": "display_data"
    }
   ],
   "source": [
    "df.limit(10).display()"
   ]
  },
  {
   "cell_type": "code",
   "execution_count": 0,
   "metadata": {
    "application/vnd.databricks.v1+cell": {
     "cellMetadata": {
      "byteLimit": 2048000,
      "rowLimit": 10000
     },
     "inputWidgets": {},
     "nuid": "913167b5-1a69-4a73-980f-8dbf6ffdd16e",
     "showTitle": false,
     "tableResultSettingsMap": {},
     "title": ""
    }
   },
   "outputs": [],
   "source": [
    "df.createOrReplaceGlobalTempView('global_view')"
   ]
  },
  {
   "cell_type": "code",
   "execution_count": 0,
   "metadata": {
    "application/vnd.databricks.v1+cell": {
     "cellMetadata": {
      "byteLimit": 2048000,
      "rowLimit": 10000
     },
     "inputWidgets": {},
     "nuid": "43ed75cf-1788-48fc-8639-601527379ed7",
     "showTitle": false,
     "tableResultSettingsMap": {},
     "title": ""
    }
   },
   "outputs": [],
   "source": [
    "df = spark.sql(\"\"\"\n",
    "               \n",
    "               select * from global_temp.global_view\n",
    "\n",
    "               \"\"\")"
   ]
  },
  {
   "cell_type": "code",
   "execution_count": 0,
   "metadata": {
    "application/vnd.databricks.v1+cell": {
     "cellMetadata": {
      "byteLimit": 2048000,
      "rowLimit": 10000
     },
     "inputWidgets": {},
     "nuid": "50a60148-3594-457f-93dd-7af4c5fbc6e1",
     "showTitle": false,
     "tableResultSettingsMap": {},
     "title": ""
    }
   },
   "outputs": [
    {
     "output_type": "display_data",
     "data": {
      "text/html": [
       "<style scoped>\n",
       "  .table-result-container {\n",
       "    max-height: 300px;\n",
       "    overflow: auto;\n",
       "  }\n",
       "  table, th, td {\n",
       "    border: 1px solid black;\n",
       "    border-collapse: collapse;\n",
       "  }\n",
       "  th, td {\n",
       "    padding: 5px;\n",
       "  }\n",
       "  th {\n",
       "    text-align: left;\n",
       "  }\n",
       "</style><div class='table-result-container'><table class='table-result'><thead style='background-color: white'><tr><th>duration_minutes</th><th>duration_seasons</th><th>type</th><th>title</th><th>date_added</th><th>release_year</th><th>rating</th><th>description</th><th>show_id</th><th>_rescued_data</th><th>ShortTitle</th><th>type_Flag</th><th>duration_ranking</th></tr></thead><tbody><tr><td>312</td><td>1</td><td>Movie</td><td>Black Mirror: Bandersnatch</td><td>12/28/2018</td><td>2018</td><td>TV</td><td>In 1984, a young programmer begins to question reality as he adapts a dark fantasy novel into a video game. A mind-bending tale with multiple endings.</td><td>80988062</td><td>null</td><td>Black Mirror</td><td>1</td><td>1</td></tr><tr><td>228</td><td>1</td><td>Movie</td><td>Sangam</td><td>12/31/2019</td><td>1964</td><td>TV</td><td>Returning home from war after being assumed dead, a pilot weds the woman he has long loved, unaware that she had been planning to marry his best friend.</td><td>60002818</td><td>null</td><td>Sangam</td><td>1</td><td>2</td></tr><tr><td>224</td><td>1</td><td>Movie</td><td>Lagaan</td><td>12/8/2017</td><td>2001</td><td>PG</td><td>In 1890s India, an arrogant British commander challenges the harshly taxed residents of Champaner to a high-stakes cricket match.</td><td>60020906</td><td>null</td><td>Lagaan</td><td>1</td><td>3</td></tr><tr><td>214</td><td>1</td><td>Movie</td><td>Jodhaa Akbar</td><td>10/1/2018</td><td>2008</td><td>TV</td><td>In 16th-century India, what begins as a strategic alliance between a Mughal emperor and a Hindu princess becomes a genuine opportunity for true love.</td><td>70090035</td><td>null</td><td>Jodhaa Akbar</td><td>1</td><td>4</td></tr><tr><td>209</td><td>1</td><td>Movie</td><td>The Irishman</td><td>11/27/2019</td><td>2019</td><td>R</td><td>Hit man Frank Sheeran looks back at the secrets he kept as a loyal member of the Bufalino crime family in this acclaimed film from Martin Scorsese.</td><td>80175798</td><td>null</td><td>The Irishman</td><td>1</td><td>5</td></tr><tr><td>205</td><td>1</td><td>Movie</td><td>The Gospel of Luke</td><td>10/19/2018</td><td>2015</td><td>TV</td><td>Word-for-word Bible texts of the entire book of Luke are narrated and re-enacted in this epic production of the Gospel's accounts of Jesus's life.</td><td>81035749</td><td>null</td><td>The Gospel of Luke</td><td>1</td><td>6</td></tr><tr><td>203</td><td>1</td><td>Movie</td><td>What's Your Raashee?</td><td>8/15/2018</td><td>2009</td><td>TV</td><td>To protect his family from ruin, Yogesh must marry his dream girl in only ten days, so he rushes into dating women with different astrological signs.</td><td>70123118</td><td>null</td><td>What's Your Raashee?</td><td>1</td><td>7</td></tr><tr><td>201</td><td>1</td><td>Movie</td><td>The Lord of the Rings: The Return of the King</td><td>1/1/2020</td><td>2003</td><td>PG</td><td>Aragorn is revealed as the heir to the ancient kings as he, Gandalf and the other members of the broken fellowship struggle to save Gondor.</td><td>60004484</td><td>null</td><td>The Lord of the Rings</td><td>1</td><td>8</td></tr><tr><td>200</td><td>1</td><td>Movie</td><td>Doctor Zhivago</td><td>11/1/2019</td><td>1965</td><td>PG</td><td>A young physician and his beautiful mistress get swept up in the danger and drama of the Bolshevik Revolution in this Oscar-winning epic.</td><td>449931</td><td>null</td><td>Doctor Zhivago</td><td>1</td><td>9</td></tr><tr><td>196</td><td>1</td><td>Movie</td><td>Elephants Dream 4 Hour</td><td>8/23/2018</td><td>2006</td><td>TV</td><td>Friends Proog and Emo live in a capricious, seemingly infinite machine with a sinister purpose in this experimental computer-animated short.</td><td>70274390</td><td>null</td><td>Elephants Dream 4 Hour</td><td>1</td><td>10</td></tr></tbody></table></div>"
      ]
     },
     "metadata": {
      "application/vnd.databricks.v1+output": {
       "addedWidgets": {},
       "aggData": [],
       "aggError": "",
       "aggOverflow": false,
       "aggSchema": [],
       "aggSeriesLimitReached": false,
       "aggType": "",
       "arguments": {},
       "columnCustomDisplayInfos": {},
       "data": [
        [
         312,
         1,
         "Movie",
         "Black Mirror: Bandersnatch",
         "12/28/2018",
         "2018",
         "TV",
         "In 1984, a young programmer begins to question reality as he adapts a dark fantasy novel into a video game. A mind-bending tale with multiple endings.",
         "80988062",
         null,
         "Black Mirror",
         1,
         1
        ],
        [
         228,
         1,
         "Movie",
         "Sangam",
         "12/31/2019",
         "1964",
         "TV",
         "Returning home from war after being assumed dead, a pilot weds the woman he has long loved, unaware that she had been planning to marry his best friend.",
         "60002818",
         null,
         "Sangam",
         1,
         2
        ],
        [
         224,
         1,
         "Movie",
         "Lagaan",
         "12/8/2017",
         "2001",
         "PG",
         "In 1890s India, an arrogant British commander challenges the harshly taxed residents of Champaner to a high-stakes cricket match.",
         "60020906",
         null,
         "Lagaan",
         1,
         3
        ],
        [
         214,
         1,
         "Movie",
         "Jodhaa Akbar",
         "10/1/2018",
         "2008",
         "TV",
         "In 16th-century India, what begins as a strategic alliance between a Mughal emperor and a Hindu princess becomes a genuine opportunity for true love.",
         "70090035",
         null,
         "Jodhaa Akbar",
         1,
         4
        ],
        [
         209,
         1,
         "Movie",
         "The Irishman",
         "11/27/2019",
         "2019",
         "R",
         "Hit man Frank Sheeran looks back at the secrets he kept as a loyal member of the Bufalino crime family in this acclaimed film from Martin Scorsese.",
         "80175798",
         null,
         "The Irishman",
         1,
         5
        ],
        [
         205,
         1,
         "Movie",
         "The Gospel of Luke",
         "10/19/2018",
         "2015",
         "TV",
         "Word-for-word Bible texts of the entire book of Luke are narrated and re-enacted in this epic production of the Gospel's accounts of Jesus's life.",
         "81035749",
         null,
         "The Gospel of Luke",
         1,
         6
        ],
        [
         203,
         1,
         "Movie",
         "What's Your Raashee?",
         "8/15/2018",
         "2009",
         "TV",
         "To protect his family from ruin, Yogesh must marry his dream girl in only ten days, so he rushes into dating women with different astrological signs.",
         "70123118",
         null,
         "What's Your Raashee?",
         1,
         7
        ],
        [
         201,
         1,
         "Movie",
         "The Lord of the Rings: The Return of the King",
         "1/1/2020",
         "2003",
         "PG",
         "Aragorn is revealed as the heir to the ancient kings as he, Gandalf and the other members of the broken fellowship struggle to save Gondor.",
         "60004484",
         null,
         "The Lord of the Rings",
         1,
         8
        ],
        [
         200,
         1,
         "Movie",
         "Doctor Zhivago",
         "11/1/2019",
         "1965",
         "PG",
         "A young physician and his beautiful mistress get swept up in the danger and drama of the Bolshevik Revolution in this Oscar-winning epic.",
         "449931",
         null,
         "Doctor Zhivago",
         1,
         9
        ],
        [
         196,
         1,
         "Movie",
         "Elephants Dream 4 Hour",
         "8/23/2018",
         "2006",
         "TV",
         "Friends Proog and Emo live in a capricious, seemingly infinite machine with a sinister purpose in this experimental computer-animated short.",
         "70274390",
         null,
         "Elephants Dream 4 Hour",
         1,
         10
        ]
       ],
       "datasetInfos": [],
       "dbfsResultPath": null,
       "isJsonSchema": true,
       "metadata": {},
       "overflow": false,
       "plotOptions": {
        "customPlotOptions": {},
        "displayType": "table",
        "pivotAggregation": null,
        "pivotColumns": null,
        "xColumns": null,
        "yColumns": null
       },
       "removedWidgets": [],
       "schema": [
        {
         "metadata": "{}",
         "name": "duration_minutes",
         "type": "\"integer\""
        },
        {
         "metadata": "{}",
         "name": "duration_seasons",
         "type": "\"integer\""
        },
        {
         "metadata": "{}",
         "name": "type",
         "type": "\"string\""
        },
        {
         "metadata": "{}",
         "name": "title",
         "type": "\"string\""
        },
        {
         "metadata": "{}",
         "name": "date_added",
         "type": "\"string\""
        },
        {
         "metadata": "{}",
         "name": "release_year",
         "type": "\"string\""
        },
        {
         "metadata": "{}",
         "name": "rating",
         "type": "\"string\""
        },
        {
         "metadata": "{}",
         "name": "description",
         "type": "\"string\""
        },
        {
         "metadata": "{}",
         "name": "show_id",
         "type": "\"string\""
        },
        {
         "metadata": "{}",
         "name": "_rescued_data",
         "type": "\"string\""
        },
        {
         "metadata": "{}",
         "name": "ShortTitle",
         "type": "\"string\""
        },
        {
         "metadata": "{}",
         "name": "type_Flag",
         "type": "\"integer\""
        },
        {
         "metadata": "{}",
         "name": "duration_ranking",
         "type": "\"integer\""
        }
       ],
       "type": "table"
      }
     },
     "output_type": "display_data"
    }
   ],
   "source": [
    "df.limit(10).display()"
   ]
  },
  {
   "cell_type": "code",
   "execution_count": 0,
   "metadata": {
    "application/vnd.databricks.v1+cell": {
     "cellMetadata": {
      "byteLimit": 2048000,
      "rowLimit": 10000
     },
     "inputWidgets": {},
     "nuid": "e1758dc9-ecb2-4b56-80dc-1285abc4a906",
     "showTitle": false,
     "tableResultSettingsMap": {},
     "title": ""
    }
   },
   "outputs": [
    {
     "output_type": "display_data",
     "data": {
      "text/html": [
       "<style scoped>\n",
       "  .table-result-container {\n",
       "    max-height: 300px;\n",
       "    overflow: auto;\n",
       "  }\n",
       "  table, th, td {\n",
       "    border: 1px solid black;\n",
       "    border-collapse: collapse;\n",
       "  }\n",
       "  th, td {\n",
       "    padding: 5px;\n",
       "  }\n",
       "  th {\n",
       "    text-align: left;\n",
       "  }\n",
       "</style><div class='table-result-container'><table class='table-result'><thead style='background-color: white'><tr><th>type</th><th>total_count</th></tr></thead><tbody><tr><td>null</td><td>1</td></tr><tr><td>TV Show</td><td>1969</td></tr><tr><td>Movie</td><td>4265</td></tr><tr><td>1944</td><td>1</td></tr></tbody></table></div>"
      ]
     },
     "metadata": {
      "application/vnd.databricks.v1+output": {
       "addedWidgets": {},
       "aggData": [],
       "aggError": "",
       "aggOverflow": false,
       "aggSchema": [],
       "aggSeriesLimitReached": false,
       "aggType": "",
       "arguments": {},
       "columnCustomDisplayInfos": {},
       "data": [
        [
         null,
         1
        ],
        [
         "TV Show",
         1969
        ],
        [
         "Movie",
         4265
        ],
        [
         "1944",
         1
        ]
       ],
       "datasetInfos": [],
       "dbfsResultPath": null,
       "isJsonSchema": true,
       "metadata": {},
       "overflow": false,
       "plotOptions": {
        "customPlotOptions": {},
        "displayType": "table",
        "pivotAggregation": null,
        "pivotColumns": null,
        "xColumns": null,
        "yColumns": null
       },
       "removedWidgets": [],
       "schema": [
        {
         "metadata": "{}",
         "name": "type",
         "type": "\"string\""
        },
        {
         "metadata": "{}",
         "name": "total_count",
         "type": "\"long\""
        }
       ],
       "type": "table"
      }
     },
     "output_type": "display_data"
    },
    {
     "output_type": "display_data",
     "data": {
      "text/plain": [
       "Databricks visualization. Run in Databricks to view."
      ]
     },
     "metadata": {
      "application/vnd.databricks.v1.subcommand+json": {
       "baseErrorDetails": null,
       "bindings": {},
       "collapsed": false,
       "command": "%python\n__backend_agg_display_orig = display\n__backend_agg_dfs = []\ndef __backend_agg_display_new(df):\n    __backend_agg_df_modules = [\"pandas.core.frame\", \"databricks.koalas.frame\", \"pyspark.sql.dataframe\", \"pyspark.pandas.frame\", \"pyspark.sql.connect.dataframe\"]\n    if (type(df).__module__ in __backend_agg_df_modules and type(df).__name__ == 'DataFrame') or isinstance(df, list):\n        __backend_agg_dfs.append(df)\n\ndisplay = __backend_agg_display_new\n\ndef __backend_agg_user_code_fn():\n    import base64\n    exec(base64.standard_b64decode(\"ZGZfdmlzID0gZGYuZ3JvdXBCeSgndHlwZScpLmFnZyhjb3VudCgiKiIpLmFsaWFzKCd0b3RhbF9jb3VudCcpKQpkZl92aXMuZGlzcGxheSgp\").decode())\n\ntry:\n    # run user code\n    __backend_agg_user_code_fn()\n\n    #reset display function\n    display = __backend_agg_display_orig\n\n    if len(__backend_agg_dfs) > 0:\n        # create a temp view\n        if type(__backend_agg_dfs[0]).__module__ == \"databricks.koalas.frame\":\n            # koalas dataframe\n            __backend_agg_dfs[0].to_spark().createOrReplaceTempView(\"DatabricksViewa740753\")\n        elif type(__backend_agg_dfs[0]).__module__ == \"pandas.core.frame\" or isinstance(__backend_agg_dfs[0], list):\n            # pandas dataframe\n            spark.createDataFrame(__backend_agg_dfs[0]).createOrReplaceTempView(\"DatabricksViewa740753\")\n        else:\n            __backend_agg_dfs[0].createOrReplaceTempView(\"DatabricksViewa740753\")\n        #run backend agg\n        display(spark.sql(\"\"\"WITH q AS (select * from DatabricksViewa740753) SELECT `type`,SUM(`total_count`) `column_6fbef7de164` FROM q GROUP BY `type`\"\"\"))\n    else:\n        displayHTML(\"dataframe no longer exists. If you're using dataframe.display(), use display(dataframe) instead.\")\n\n\nfinally:\n    spark.sql(\"drop view if exists DatabricksViewa740753\")\n    display = __backend_agg_display_orig\n    del __backend_agg_display_new\n    del __backend_agg_display_orig\n    del __backend_agg_dfs\n    del __backend_agg_user_code_fn\n\n",
       "commandTitle": "Visualization 1",
       "commandType": "auto",
       "commandVersion": 0,
       "commentThread": [],
       "commentsVisible": false,
       "contentSha256Hex": null,
       "customPlotOptions": {
        "redashChart": [
         {
          "key": "type",
          "value": "CHART"
         },
         {
          "key": "options",
          "value": {
           "alignYAxesAtZero": true,
           "coefficient": 1,
           "columnConfigurationMap": {
            "x": {
             "column": "type",
             "id": "column_6fbef7de163"
            },
            "y": [
             {
              "column": "total_count",
              "id": "column_6fbef7de164",
              "transform": "SUM"
             }
            ]
           },
           "dateTimeFormat": "DD/MM/YYYY HH:mm",
           "direction": {
            "type": "counterclockwise"
           },
           "error_y": {
            "type": "data",
            "visible": true
           },
           "globalSeriesType": "pie",
           "legend": {
            "traceorder": "normal"
           },
           "missingValuesAsZero": true,
           "numberFormat": "0,0.[00000]",
           "percentFormat": "0[.]00%",
           "series": {
            "error_y": {
             "type": "data",
             "visible": true
            },
            "stacking": null
           },
           "seriesOptions": {
            "column_6fbef7de164": {
             "name": "total_count",
             "type": "pie",
             "yAxis": 0
            }
           },
           "showDataLabels": true,
           "sizemode": "diameter",
           "sortX": true,
           "sortY": true,
           "swappedAxes": false,
           "textFormat": "",
           "useAggregationsUi": true,
           "valuesOptions": {},
           "version": 2,
           "xAxis": {
            "labels": {
             "enabled": true
            },
            "type": "-"
           },
           "yAxis": [
            {
             "type": "-"
            },
            {
             "opposite": true,
             "type": "-"
            }
           ]
          }
         }
        ]
       },
       "datasetPreviewNameToCmdIdMap": {},
       "diffDeletes": [],
       "diffInserts": [],
       "displayType": "redashChart",
       "error": null,
       "errorDetails": null,
       "errorSummary": null,
       "errorTraceType": null,
       "finishTime": 0,
       "globalVars": {},
       "guid": "",
       "height": "auto",
       "hideCommandCode": false,
       "hideCommandResult": false,
       "iPythonMetadata": null,
       "inputWidgets": {},
       "isLockedInExamMode": false,
       "latestUser": "a user",
       "latestUserId": null,
       "listResultMetadata": null,
       "metadata": {
        "byteLimit": 2048000,
        "rowLimit": 10000
       },
       "nuid": "305e7edf-6fd8-49c3-b6fd-3bc2cb2d4328",
       "origId": 0,
       "parentHierarchy": [],
       "pivotAggregation": null,
       "pivotColumns": null,
       "position": 23.0,
       "resultDbfsErrorMessage": null,
       "resultDbfsStatus": "INLINED_IN_TREE",
       "results": null,
       "showCommandTitle": false,
       "startTime": 0,
       "state": "finished",
       "streamStates": {},
       "subcommandOptions": {
        "queryPlan": {
         "groups": [
          {
           "column": "type",
           "type": "column"
          }
         ],
         "selects": [
          {
           "column": "type",
           "type": "column"
          },
          {
           "alias": "column_6fbef7de164",
           "args": [
            {
             "column": "total_count",
             "type": "column"
            }
           ],
           "function": "SUM",
           "type": "function"
          }
         ]
        }
       },
       "submitTime": 0,
       "subtype": "tableResultSubCmd.visualization",
       "tableResultIndex": 0,
       "tableResultSettingsMap": {},
       "useConsistentColors": false,
       "version": "CommandV1",
       "width": "auto",
       "workflows": [],
       "xColumns": null,
       "yColumns": null
      }
     },
     "output_type": "display_data"
    }
   ],
   "source": [
    "df_vis = df.groupBy('type').agg(count(\"*\").alias('total_count'))\n",
    "df_vis.display()"
   ]
  },
  {
   "cell_type": "code",
   "execution_count": 0,
   "metadata": {
    "application/vnd.databricks.v1+cell": {
     "cellMetadata": {
      "byteLimit": 2048000,
      "rowLimit": 10000
     },
     "inputWidgets": {},
     "nuid": "5720f875-a492-46b9-b045-4904c023ba1a",
     "showTitle": false,
     "tableResultSettingsMap": {},
     "title": ""
    }
   },
   "outputs": [],
   "source": [
    "df.write.format('delta')\\\n",
    "    .mode('overwrite')\\\n",
    "    .option('path', 'abfss://silver@netflixstorageswap.dfs.core.windows.net/netflix_titles')\\\n",
    "    .save()"
   ]
  },
  {
   "cell_type": "code",
   "execution_count": 0,
   "metadata": {
    "application/vnd.databricks.v1+cell": {
     "cellMetadata": {
      "byteLimit": 2048000,
      "rowLimit": 10000
     },
     "inputWidgets": {},
     "nuid": "42ac9a77-1f0e-4628-aa34-79b86d942e0e",
     "showTitle": false,
     "tableResultSettingsMap": {},
     "title": ""
    }
   },
   "outputs": [],
   "source": []
  }
 ],
 "metadata": {
  "application/vnd.databricks.v1+notebook": {
   "computePreferences": null,
   "dashboards": [],
   "environmentMetadata": {
    "base_environment": "",
    "environment_version": "2"
   },
   "language": "python",
   "notebookMetadata": {
    "pythonIndentUnit": 4
   },
   "notebookName": "4_Silver",
   "widgets": {}
  },
  "language_info": {
   "name": "python"
  }
 },
 "nbformat": 4,
 "nbformat_minor": 0
}