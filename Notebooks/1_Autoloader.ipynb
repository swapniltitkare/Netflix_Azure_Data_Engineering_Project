{
 "cells": [
  {
   "cell_type": "markdown",
   "metadata": {
    "application/vnd.databricks.v1+cell": {
     "cellMetadata": {},
     "inputWidgets": {},
     "nuid": "94e00ab2-b977-49e7-9d67-bea765688908",
     "showTitle": false,
     "tableResultSettingsMap": {},
     "title": ""
    }
   },
   "source": [
    "### Incremental data loading using Autoloader"
   ]
  },
  {
   "cell_type": "code",
   "execution_count": 0,
   "metadata": {
    "application/vnd.databricks.v1+cell": {
     "cellMetadata": {
      "byteLimit": 2048000,
      "implicitDf": true,
      "rowLimit": 10000
     },
     "inputWidgets": {},
     "nuid": "eba06641-445e-462f-bcd5-8b26d3e836f5",
     "showTitle": false,
     "tableResultSettingsMap": {},
     "title": ""
    }
   },
   "outputs": [
    {
     "output_type": "display_data",
     "data": {
      "text/html": [
       "<style scoped>\n",
       "  .table-result-container {\n",
       "    max-height: 300px;\n",
       "    overflow: auto;\n",
       "  }\n",
       "  table, th, td {\n",
       "    border: 1px solid black;\n",
       "    border-collapse: collapse;\n",
       "  }\n",
       "  th, td {\n",
       "    padding: 5px;\n",
       "  }\n",
       "  th {\n",
       "    text-align: left;\n",
       "  }\n",
       "</style><div class='table-result-container'><table class='table-result'><thead style='background-color: white'><tr></tr></thead><tbody></tbody></table></div>"
      ]
     },
     "metadata": {
      "application/vnd.databricks.v1+output": {
       "addedWidgets": {},
       "aggData": [],
       "aggError": "",
       "aggOverflow": false,
       "aggSchema": [],
       "aggSeriesLimitReached": false,
       "aggType": "",
       "arguments": {},
       "columnCustomDisplayInfos": {},
       "data": [],
       "datasetInfos": [],
       "dbfsResultPath": null,
       "isJsonSchema": true,
       "metadata": {
        "dataframeName": null
       },
       "overflow": false,
       "plotOptions": {
        "customPlotOptions": {},
        "displayType": "table",
        "pivotAggregation": null,
        "pivotColumns": null,
        "xColumns": null,
        "yColumns": null
       },
       "removedWidgets": [],
       "schema": [],
       "type": "table"
      }
     },
     "output_type": "display_data"
    }
   ],
   "source": [
    "%sql\n",
    "CREATE SCHEMA netflix_catalog.net_schema"
   ]
  },
  {
   "cell_type": "code",
   "execution_count": 0,
   "metadata": {
    "application/vnd.databricks.v1+cell": {
     "cellMetadata": {
      "byteLimit": 2048000,
      "rowLimit": 10000
     },
     "inputWidgets": {},
     "nuid": "9e4cbdfa-dac2-4a71-b994-4c76f97aab6c",
     "showTitle": false,
     "tableResultSettingsMap": {},
     "title": ""
    }
   },
   "outputs": [],
   "source": [
    "checkpoint_path = 'abfss://silver@netflixstorageswap.dfs.core.windows.net/checkpoint'"
   ]
  },
  {
   "cell_type": "code",
   "execution_count": 0,
   "metadata": {
    "application/vnd.databricks.v1+cell": {
     "cellMetadata": {
      "byteLimit": 2048000,
      "rowLimit": 10000
     },
     "inputWidgets": {},
     "nuid": "7b7d8064-4d92-4c52-b7e2-3026a9eae4b0",
     "showTitle": false,
     "tableResultSettingsMap": {},
     "title": ""
    }
   },
   "outputs": [],
   "source": [
    "df = spark.readStream\\\n",
    "    .format('CloudFiles')\\\n",
    "    .option('CloudFiles.format', 'csv')\\\n",
    "    .option('CloudFiles.schemaLocation', checkpoint_path)\\\n",
    "    .load('abfss://raw@netflixstorageswap.dfs.core.windows.net/')"
   ]
  },
  {
   "cell_type": "code",
   "execution_count": 0,
   "metadata": {
    "application/vnd.databricks.v1+cell": {
     "cellMetadata": {
      "byteLimit": 2048000,
      "rowLimit": 10000
     },
     "inputWidgets": {},
     "nuid": "ed5a638b-2d7c-47b5-8967-c4b3e508e434",
     "showTitle": false,
     "tableResultSettingsMap": {},
     "title": ""
    }
   },
   "outputs": [
    {
     "output_type": "display_data",
     "data": {
      "text/html": [
       "<style scoped>\n",
       "  .table-result-container {\n",
       "    max-height: 300px;\n",
       "    overflow: auto;\n",
       "  }\n",
       "  table, th, td {\n",
       "    border: 1px solid black;\n",
       "    border-collapse: collapse;\n",
       "  }\n",
       "  th, td {\n",
       "    padding: 5px;\n",
       "  }\n",
       "  th {\n",
       "    text-align: left;\n",
       "  }\n",
       "</style><div class='table-result-container'><table class='table-result'><thead style='background-color: white'><tr><th>duration_minutes</th><th>duration_seasons</th><th>type</th><th>title</th><th>date_added</th><th>release_year</th><th>rating</th><th>description</th><th>show_id</th><th>_rescued_data</th></tr></thead><tbody><tr><td>90</td><td>null</td><td>Movie</td><td>Norm of the North: King Sized Adventure</td><td>9/9/2019</td><td>2019</td><td>TV-PG</td><td>Before planning an awesome wedding for his grandfather, a polar bear king must take back a stolen artifact from an evil archaeologist first.</td><td>81145628</td><td>null</td></tr><tr><td>94</td><td>null</td><td>Movie</td><td>Jandino: Whatever it Takes</td><td>9/9/2016</td><td>2016</td><td>TV-MA</td><td>\"Jandino Asporaat riffs on the challenges of raising kids and serenades the audience with a rousing rendition of \"\"Sex on Fire\"\" in his comedy show.\"</td><td>80117401</td><td>null</td></tr><tr><td>null</td><td>1</td><td>TV Show</td><td>Transformers Prime</td><td>9/8/2018</td><td>2013</td><td>TV-Y7-FV</td><td>With the help of three human allies, the Autobots once again protect Earth from the onslaught of the Decepticons and their leader, Megatron.</td><td>70234439</td><td>null</td></tr><tr><td>null</td><td>1</td><td>TV Show</td><td>Transformers: Robots in Disguise</td><td>9/8/2018</td><td>2016</td><td>TV-Y7</td><td>When a prison ship crash unleashes hundreds of Decepticons on Earth, Bumblebee leads a new Autobot force to protect humankind.</td><td>80058654</td><td>null</td></tr><tr><td>99</td><td>null</td><td>Movie</td><td>#realityhigh</td><td>9/8/2017</td><td>2017</td><td>TV-14</td><td>When nerdy high schooler Dani finally attracts the interest of her longtime crush, she lands in the cross hairs of his ex, a social media celebrity.</td><td>80125979</td><td>null</td></tr><tr><td>null</td><td>1</td><td>TV Show</td><td>Apaches</td><td>9/8/2017</td><td>2016</td><td>TV-MA</td><td>A young journalist is forced into a life of crime to save his father and family in this series based on the novel by Miguel Sáez Carral.</td><td>80163890</td><td>null</td></tr><tr><td>110</td><td>null</td><td>Movie</td><td>Automata</td><td>9/8/2017</td><td>2014</td><td>R</td><td>In a dystopian future, an insurance adjuster for a tech company investigates a robot killed for violating protocol and discovers a global conspiracy.</td><td>70304989</td><td>null</td></tr><tr><td>60</td><td>null</td><td>Movie</td><td>Fabrizio Copano: Solo pienso en mi</td><td>9/8/2017</td><td>2017</td><td>TV-MA</td><td>Fabrizio Copano takes audience participation to the next level in this stand-up set while reflecting on sperm banks, family WhatsApp groups and more.</td><td>80164077</td><td>null</td></tr><tr><td>null</td><td>1</td><td>TV Show</td><td>Fire Chasers</td><td>9/8/2017</td><td>2017</td><td>TV-MA</td><td>As California's 2016 fire season rages, brave backcountry firefighters race to put out the flames, protect homes and save lives in this docuseries.</td><td>80117902</td><td>null</td></tr><tr><td>90</td><td>null</td><td>Movie</td><td>Good People</td><td>9/8/2017</td><td>2014</td><td>R</td><td>A struggling couple can't believe their luck when they find a stash of money in the apartment of a neighbor who was recently murdered.</td><td>70304990</td><td>null</td></tr></tbody></table></div>"
      ]
     },
     "metadata": {
      "application/vnd.databricks.v1+output": {
       "addedWidgets": {},
       "aggData": [],
       "aggError": "",
       "aggOverflow": false,
       "aggSchema": [],
       "aggSeriesLimitReached": false,
       "aggType": "",
       "arguments": {},
       "columnCustomDisplayInfos": {},
       "data": [
        [
         "90",
         null,
         "Movie",
         "Norm of the North: King Sized Adventure",
         "9/9/2019",
         "2019",
         "TV-PG",
         "Before planning an awesome wedding for his grandfather, a polar bear king must take back a stolen artifact from an evil archaeologist first.",
         "81145628",
         null
        ],
        [
         "94",
         null,
         "Movie",
         "Jandino: Whatever it Takes",
         "9/9/2016",
         "2016",
         "TV-MA",
         "\"Jandino Asporaat riffs on the challenges of raising kids and serenades the audience with a rousing rendition of \"\"Sex on Fire\"\" in his comedy show.\"",
         "80117401",
         null
        ],
        [
         null,
         "1",
         "TV Show",
         "Transformers Prime",
         "9/8/2018",
         "2013",
         "TV-Y7-FV",
         "With the help of three human allies, the Autobots once again protect Earth from the onslaught of the Decepticons and their leader, Megatron.",
         "70234439",
         null
        ],
        [
         null,
         "1",
         "TV Show",
         "Transformers: Robots in Disguise",
         "9/8/2018",
         "2016",
         "TV-Y7",
         "When a prison ship crash unleashes hundreds of Decepticons on Earth, Bumblebee leads a new Autobot force to protect humankind.",
         "80058654",
         null
        ],
        [
         "99",
         null,
         "Movie",
         "#realityhigh",
         "9/8/2017",
         "2017",
         "TV-14",
         "When nerdy high schooler Dani finally attracts the interest of her longtime crush, she lands in the cross hairs of his ex, a social media celebrity.",
         "80125979",
         null
        ],
        [
         null,
         "1",
         "TV Show",
         "Apaches",
         "9/8/2017",
         "2016",
         "TV-MA",
         "A young journalist is forced into a life of crime to save his father and family in this series based on the novel by Miguel Sáez Carral.",
         "80163890",
         null
        ],
        [
         "110",
         null,
         "Movie",
         "Automata",
         "9/8/2017",
         "2014",
         "R",
         "In a dystopian future, an insurance adjuster for a tech company investigates a robot killed for violating protocol and discovers a global conspiracy.",
         "70304989",
         null
        ],
        [
         "60",
         null,
         "Movie",
         "Fabrizio Copano: Solo pienso en mi",
         "9/8/2017",
         "2017",
         "TV-MA",
         "Fabrizio Copano takes audience participation to the next level in this stand-up set while reflecting on sperm banks, family WhatsApp groups and more.",
         "80164077",
         null
        ],
        [
         null,
         "1",
         "TV Show",
         "Fire Chasers",
         "9/8/2017",
         "2017",
         "TV-MA",
         "As California's 2016 fire season rages, brave backcountry firefighters race to put out the flames, protect homes and save lives in this docuseries.",
         "80117902",
         null
        ],
        [
         "90",
         null,
         "Movie",
         "Good People",
         "9/8/2017",
         "2014",
         "R",
         "A struggling couple can't believe their luck when they find a stash of money in the apartment of a neighbor who was recently murdered.",
         "70304990",
         null
        ]
       ],
       "datasetInfos": [],
       "dbfsResultPath": null,
       "isJsonSchema": true,
       "metadata": {
        "isDbfsCommandResult": false
       },
       "overflow": false,
       "plotOptions": {
        "customPlotOptions": {},
        "displayType": "table",
        "pivotAggregation": null,
        "pivotColumns": null,
        "xColumns": null,
        "yColumns": null
       },
       "removedWidgets": [],
       "schema": [
        {
         "metadata": "{}",
         "name": "duration_minutes",
         "type": "\"string\""
        },
        {
         "metadata": "{}",
         "name": "duration_seasons",
         "type": "\"string\""
        },
        {
         "metadata": "{}",
         "name": "type",
         "type": "\"string\""
        },
        {
         "metadata": "{}",
         "name": "title",
         "type": "\"string\""
        },
        {
         "metadata": "{}",
         "name": "date_added",
         "type": "\"string\""
        },
        {
         "metadata": "{}",
         "name": "release_year",
         "type": "\"string\""
        },
        {
         "metadata": "{}",
         "name": "rating",
         "type": "\"string\""
        },
        {
         "metadata": "{}",
         "name": "description",
         "type": "\"string\""
        },
        {
         "metadata": "{}",
         "name": "show_id",
         "type": "\"string\""
        },
        {
         "metadata": "{}",
         "name": "_rescued_data",
         "type": "\"string\""
        }
       ],
       "type": "table"
      }
     },
     "output_type": "display_data"
    }
   ],
   "source": [
    "df.limit(10).display()"
   ]
  },
  {
   "cell_type": "code",
   "execution_count": 0,
   "metadata": {
    "application/vnd.databricks.v1+cell": {
     "cellMetadata": {
      "byteLimit": 2048000,
      "rowLimit": 10000
     },
     "inputWidgets": {},
     "nuid": "38812487-3595-4d35-a629-2898be9b0363",
     "showTitle": false,
     "tableResultSettingsMap": {},
     "title": ""
    }
   },
   "outputs": [
    {
     "output_type": "execute_result",
     "data": {
      "text/plain": [
       "<pyspark.sql.streaming.query.StreamingQuery at 0x7fb404755550>"
      ]
     },
     "execution_count": 10,
     "metadata": {},
     "output_type": "execute_result"
    }
   ],
   "source": [
    "df.writeStream\\\n",
    "    .option('checkpointLocation', checkpoint_path)\\\n",
    "    .trigger(processingTime = '10 seconds')\\\n",
    "    .start('abfss://bronze@netflixstorageswap.dfs.core.windows.net/netfix_titles')"
   ]
  },
  {
   "cell_type": "code",
   "execution_count": 0,
   "metadata": {
    "application/vnd.databricks.v1+cell": {
     "cellMetadata": {},
     "inputWidgets": {},
     "nuid": "8c21ab63-6b0c-403c-8ba3-639178ec8358",
     "showTitle": false,
     "tableResultSettingsMap": {},
     "title": ""
    }
   },
   "outputs": [],
   "source": []
  }
 ],
 "metadata": {
  "application/vnd.databricks.v1+notebook": {
   "computePreferences": null,
   "dashboards": [],
   "environmentMetadata": {
    "base_environment": "",
    "environment_version": "2"
   },
   "language": "python",
   "notebookMetadata": {
    "mostRecentlyExecutedCommandWithImplicitDF": {
     "commandId": 1307068188268555,
     "dataframes": [
      "_sqldf"
     ]
    },
    "pythonIndentUnit": 4
   },
   "notebookName": "1_Autoloader",
   "widgets": {}
  },
  "language_info": {
   "name": "python"
  }
 },
 "nbformat": 4,
 "nbformat_minor": 0
}