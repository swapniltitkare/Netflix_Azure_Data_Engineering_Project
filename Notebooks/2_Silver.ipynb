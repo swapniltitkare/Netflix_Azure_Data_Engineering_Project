{
 "cells": [
  {
   "cell_type": "markdown",
   "metadata": {
    "application/vnd.databricks.v1+cell": {
     "cellMetadata": {},
     "inputWidgets": {},
     "nuid": "fb32dfb6-4b44-4f62-98a8-76c6b5efad8b",
     "showTitle": false,
     "tableResultSettingsMap": {},
     "title": ""
    }
   },
   "source": [
    "###Silver Notebook LookupTables"
   ]
  },
  {
   "cell_type": "markdown",
   "metadata": {
    "application/vnd.databricks.v1+cell": {
     "cellMetadata": {},
     "inputWidgets": {},
     "nuid": "494f36a2-0a4c-4139-a2c3-942b73a25e06",
     "showTitle": false,
     "tableResultSettingsMap": {},
     "title": ""
    }
   },
   "source": [
    "####Parameters"
   ]
  },
  {
   "cell_type": "code",
   "execution_count": 0,
   "metadata": {
    "application/vnd.databricks.v1+cell": {
     "cellMetadata": {
      "byteLimit": 2048000,
      "rowLimit": 10000
     },
     "inputWidgets": {},
     "nuid": "01ca5392-dd0b-4ebc-b6ed-139dd3a48533",
     "showTitle": false,
     "tableResultSettingsMap": {},
     "title": ""
    }
   },
   "outputs": [],
   "source": [
    "dbutils.widgets.text('sourcefolder','netflix_directors')\n",
    "dbutils.widgets.text('targetfolder','netflix_directors')"
   ]
  },
  {
   "cell_type": "markdown",
   "metadata": {
    "application/vnd.databricks.v1+cell": {
     "cellMetadata": {},
     "inputWidgets": {},
     "nuid": "07e3e19b-4e23-408f-8b0d-d9809861205a",
     "showTitle": false,
     "tableResultSettingsMap": {},
     "title": ""
    }
   },
   "source": [
    "####Variables"
   ]
  },
  {
   "cell_type": "code",
   "execution_count": 0,
   "metadata": {
    "application/vnd.databricks.v1+cell": {
     "cellMetadata": {
      "byteLimit": 2048000,
      "rowLimit": 10000
     },
     "inputWidgets": {},
     "nuid": "2f2af8f7-cbb7-4072-a51e-3bcd94b099d9",
     "showTitle": false,
     "tableResultSettingsMap": {},
     "title": ""
    }
   },
   "outputs": [],
   "source": [
    "var_src_folder = dbutils.widgets.get('sourcefolder')\n",
    "var_trg_folder = dbutils.widgets.get('targetfolder')"
   ]
  },
  {
   "cell_type": "code",
   "execution_count": 0,
   "metadata": {
    "application/vnd.databricks.v1+cell": {
     "cellMetadata": {
      "byteLimit": 2048000,
      "rowLimit": 10000
     },
     "inputWidgets": {},
     "nuid": "cf67e6e4-66dc-4ebf-af66-ab60e1983a0b",
     "showTitle": false,
     "tableResultSettingsMap": {},
     "title": ""
    }
   },
   "outputs": [],
   "source": [
    "df = spark.read.format('csv')\\\n",
    "    .option('header',True)\\\n",
    "    .option('inferSchema', True)\\\n",
    "    .load(f'abfss://bronze@netflixstorageswap.dfs.core.windows.net/{var_src_folder}')"
   ]
  },
  {
   "cell_type": "code",
   "execution_count": 0,
   "metadata": {
    "application/vnd.databricks.v1+cell": {
     "cellMetadata": {
      "byteLimit": 2048000,
      "rowLimit": 10000
     },
     "inputWidgets": {},
     "nuid": "11826a13-55e6-425f-bafa-4fe7ca548f7c",
     "showTitle": false,
     "tableResultSettingsMap": {},
     "title": ""
    }
   },
   "outputs": [
    {
     "output_type": "display_data",
     "data": {
      "text/html": [
       "<style scoped>\n",
       "  .table-result-container {\n",
       "    max-height: 300px;\n",
       "    overflow: auto;\n",
       "  }\n",
       "  table, th, td {\n",
       "    border: 1px solid black;\n",
       "    border-collapse: collapse;\n",
       "  }\n",
       "  th, td {\n",
       "    padding: 5px;\n",
       "  }\n",
       "  th {\n",
       "    text-align: left;\n",
       "  }\n",
       "</style><div class='table-result-container'><table class='table-result'><thead style='background-color: white'><tr><th>director</th><th>show_id</th></tr></thead><tbody><tr><td>Richard Finn</td><td>81145628</td></tr><tr><td>Fernando Lebrija</td><td>80125979</td></tr><tr><td>Gabe Ibáñez</td><td>70304989</td></tr><tr><td>Rodrigo Toro</td><td>80164077</td></tr><tr><td>Henrik Ruben Genz</td><td>70304990</td></tr></tbody></table></div>"
      ]
     },
     "metadata": {
      "application/vnd.databricks.v1+output": {
       "addedWidgets": {},
       "aggData": [],
       "aggError": "",
       "aggOverflow": false,
       "aggSchema": [],
       "aggSeriesLimitReached": false,
       "aggType": "",
       "arguments": {},
       "columnCustomDisplayInfos": {},
       "data": [
        [
         "Richard Finn",
         81145628
        ],
        [
         "Fernando Lebrija",
         80125979
        ],
        [
         "Gabe Ibáñez",
         70304989
        ],
        [
         "Rodrigo Toro",
         80164077
        ],
        [
         "Henrik Ruben Genz",
         70304990
        ]
       ],
       "datasetInfos": [],
       "dbfsResultPath": null,
       "isJsonSchema": true,
       "metadata": {},
       "overflow": false,
       "plotOptions": {
        "customPlotOptions": {},
        "displayType": "table",
        "pivotAggregation": null,
        "pivotColumns": null,
        "xColumns": null,
        "yColumns": null
       },
       "removedWidgets": [],
       "schema": [
        {
         "metadata": "{}",
         "name": "director",
         "type": "\"string\""
        },
        {
         "metadata": "{}",
         "name": "show_id",
         "type": "\"integer\""
        }
       ],
       "type": "table"
      }
     },
     "output_type": "display_data"
    }
   ],
   "source": [
    "df.limit(5).display()"
   ]
  },
  {
   "cell_type": "code",
   "execution_count": 0,
   "metadata": {
    "application/vnd.databricks.v1+cell": {
     "cellMetadata": {
      "byteLimit": 2048000,
      "rowLimit": 10000
     },
     "inputWidgets": {},
     "nuid": "e1d63122-48ba-4207-a7b3-0ddf20511b2f",
     "showTitle": false,
     "tableResultSettingsMap": {},
     "title": ""
    }
   },
   "outputs": [],
   "source": [
    "df.write.format('delta')\\\n",
    "    .mode('append')\\\n",
    "    .option('path',f'abfss://silver@netflixstorageswap.dfs.core.windows.net/{var_trg_folder}')\\\n",
    "    .save()"
   ]
  }
 ],
 "metadata": {
  "application/vnd.databricks.v1+notebook": {
   "computePreferences": null,
   "dashboards": [],
   "environmentMetadata": {
    "base_environment": "",
    "environment_version": "2"
   },
   "language": "python",
   "notebookMetadata": {
    "pythonIndentUnit": 4
   },
   "notebookName": "2_Silver",
   "widgets": {
    "sourcefolder": {
     "currentValue": "netflix_directors",
     "nuid": "bd1ef558-cd88-4881-8269-219ab59b6a7d",
     "typedWidgetInfo": {
      "autoCreated": false,
      "defaultValue": "netflix_directors",
      "label": null,
      "name": "sourcefolder",
      "options": {
       "widgetDisplayType": "Text",
       "validationRegex": null
      },
      "parameterDataType": "String"
     },
     "widgetInfo": {
      "widgetType": "text",
      "defaultValue": "netflix_directors",
      "label": null,
      "name": "sourcefolder",
      "options": {
       "widgetType": "text",
       "autoCreated": false,
       "validationRegex": null
      }
     }
    },
    "surcefolder": {
     "currentValue": "netflix_directors",
     "nuid": "0ba70cfc-a5a1-49fd-851b-c893cbd9d792",
     "typedWidgetInfo": {
      "autoCreated": false,
      "defaultValue": "netflix_directors",
      "label": null,
      "name": "surcefolder",
      "options": {
       "widgetDisplayType": "Text",
       "validationRegex": null
      },
      "parameterDataType": "String"
     },
     "widgetInfo": {
      "widgetType": "text",
      "defaultValue": "netflix_directors",
      "label": null,
      "name": "surcefolder",
      "options": {
       "widgetType": "text",
       "autoCreated": false,
       "validationRegex": null
      }
     }
    },
    "targetfolder": {
     "currentValue": "netflix_directors",
     "nuid": "96401e2d-a38f-4b50-92d1-15724c3212a5",
     "typedWidgetInfo": {
      "autoCreated": false,
      "defaultValue": "netflix_directors",
      "label": null,
      "name": "targetfolder",
      "options": {
       "widgetDisplayType": "Text",
       "validationRegex": null
      },
      "parameterDataType": "String"
     },
     "widgetInfo": {
      "widgetType": "text",
      "defaultValue": "netflix_directors",
      "label": null,
      "name": "targetfolder",
      "options": {
       "widgetType": "text",
       "autoCreated": null,
       "validationRegex": null
      }
     }
    }
   }
  },
  "language_info": {
   "name": "python"
  }
 },
 "nbformat": 4,
 "nbformat_minor": 0
}